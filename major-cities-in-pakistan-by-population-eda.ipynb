{
 "cells": [
  {
   "cell_type": "markdown",
   "id": "ce6c1af1",
   "metadata": {
    "_cell_guid": "b1076dfc-b9ad-4769-8c92-a6c4dae69d19",
    "_uuid": "8f2839f25d086af736a60e9eeb907d3b93b6e0e5",
    "execution": {
     "iopub.execute_input": "2023-03-22T08:30:52.561166Z",
     "iopub.status.busy": "2023-03-22T08:30:52.560362Z",
     "iopub.status.idle": "2023-03-22T08:30:52.604743Z",
     "shell.execute_reply": "2023-03-22T08:30:52.603676Z",
     "shell.execute_reply.started": "2023-03-22T08:30:52.561116Z"
    },
    "papermill": {
     "duration": 0.009647,
     "end_time": "2023-03-22T14:26:47.646698",
     "exception": false,
     "start_time": "2023-03-22T14:26:47.637051",
     "status": "completed"
    },
    "tags": []
   },
   "source": [
    "# Major Cities in Pakistan By Population Data Analysis\n",
    "\n",
    "**Introduction:**\n",
    "\n",
    "Pakistan is the 5th most populated country in the world.\n",
    "\n",
    "In this notebook, We will analyze the Major cities of Pakistan to their population. We will try to analyze How the population changed from 1998 to 2017 in the major cities according to the official census.\n",
    "\n",
    "**About Dataset:**\n",
    "\n",
    "This dataset provides insights into what is the population of some of the major cities in Pakistan\n",
    "* The dataset is sorted from highest to lowest according to the population of the cities.\n",
    "* This dataset also contains the population counts from the census of 1998.\n",
    "* In which province the city is located.\n",
    "* Also, the percentage of change in population growth from census 1998 to census 2017.\n",
    "\n",
    "\n"
   ]
  },
  {
   "cell_type": "markdown",
   "id": "c93ffd33",
   "metadata": {
    "papermill": {
     "duration": 0.007456,
     "end_time": "2023-03-22T14:26:47.662050",
     "exception": false,
     "start_time": "2023-03-22T14:26:47.654594",
     "status": "completed"
    },
    "tags": []
   },
   "source": [
    "# Importing Libraries "
   ]
  },
  {
   "cell_type": "code",
   "execution_count": 1,
   "id": "92680e2a",
   "metadata": {
    "execution": {
     "iopub.execute_input": "2023-03-22T14:26:47.681234Z",
     "iopub.status.busy": "2023-03-22T14:26:47.680187Z",
     "iopub.status.idle": "2023-03-22T14:26:48.911936Z",
     "shell.execute_reply": "2023-03-22T14:26:48.910650Z"
    },
    "papermill": {
     "duration": 1.2451,
     "end_time": "2023-03-22T14:26:48.915414",
     "exception": false,
     "start_time": "2023-03-22T14:26:47.670314",
     "status": "completed"
    },
    "tags": []
   },
   "outputs": [
    {
     "name": "stdout",
     "output_type": "stream",
     "text": [
      "/kaggle/input/major-cities-in-pakistan-by-population/Major Cities in Pakistan by population.csv\n"
     ]
    }
   ],
   "source": [
    "# This Python 3 environment comes with many helpful analytics libraries installed\n",
    "# It is defined by the kaggle/python Docker image: https://github.com/kaggle/docker-python\n",
    "# For example, here's several helpful packages to load\n",
    "\n",
    "import numpy as np # linear algebra\n",
    "import pandas as pd # data processing, CSV file I/O (e.g. pd.read_csv)\n",
    "import matplotlib.pyplot as plt #data visualization\n",
    "import seaborn as sns #data visualization\n",
    "sns.set_style(\"white\")\n",
    "\n",
    "# Input data files are available in the read-only \"../input/\" directory\n",
    "# For example, running this (by clicking run or pressing Shift+Enter) will list all files under the input directory\n",
    "\n",
    "import os\n",
    "for dirname, _, filenames in os.walk('/kaggle/input'):\n",
    "    for filename in filenames:\n",
    "        print(os.path.join(dirname, filename))\n",
    "\n",
    "# You can write up to 20GB to the current directory (/kaggle/working/) that gets preserved as output when you create a version using \"Save & Run All\" \n",
    "# You can also write temporary files to /kaggle/temp/, but they won't be saved outside of the current session"
   ]
  },
  {
   "cell_type": "markdown",
   "id": "c83a7437",
   "metadata": {
    "papermill": {
     "duration": 0.007465,
     "end_time": "2023-03-22T14:26:48.931228",
     "exception": false,
     "start_time": "2023-03-22T14:26:48.923763",
     "status": "completed"
    },
    "tags": []
   },
   "source": [
    "# Basic Exploration of the Data"
   ]
  },
  {
   "cell_type": "code",
   "execution_count": 2,
   "id": "a4c4074d",
   "metadata": {
    "execution": {
     "iopub.execute_input": "2023-03-22T14:26:48.948945Z",
     "iopub.status.busy": "2023-03-22T14:26:48.948502Z",
     "iopub.status.idle": "2023-03-22T14:26:48.998950Z",
     "shell.execute_reply": "2023-03-22T14:26:48.997348Z"
    },
    "papermill": {
     "duration": 0.062798,
     "end_time": "2023-03-22T14:26:49.001914",
     "exception": false,
     "start_time": "2023-03-22T14:26:48.939116",
     "status": "completed"
    },
    "tags": []
   },
   "outputs": [
    {
     "data": {
      "text/html": [
       "<div>\n",
       "<style scoped>\n",
       "    .dataframe tbody tr th:only-of-type {\n",
       "        vertical-align: middle;\n",
       "    }\n",
       "\n",
       "    .dataframe tbody tr th {\n",
       "        vertical-align: top;\n",
       "    }\n",
       "\n",
       "    .dataframe thead th {\n",
       "        text-align: right;\n",
       "    }\n",
       "</style>\n",
       "<table border=\"1\" class=\"dataframe\">\n",
       "  <thead>\n",
       "    <tr style=\"text-align: right;\">\n",
       "      <th></th>\n",
       "      <th>Rank</th>\n",
       "      <th>City</th>\n",
       "      <th>Population 2017 Census</th>\n",
       "      <th>Population 1998 Census</th>\n",
       "      <th>Change</th>\n",
       "      <th>Province</th>\n",
       "    </tr>\n",
       "  </thead>\n",
       "  <tbody>\n",
       "    <tr>\n",
       "      <th>0</th>\n",
       "      <td>1</td>\n",
       "      <td>Karachi</td>\n",
       "      <td>14916456</td>\n",
       "      <td>9339023</td>\n",
       "      <td>0.5972</td>\n",
       "      <td>Sindh</td>\n",
       "    </tr>\n",
       "    <tr>\n",
       "      <th>1</th>\n",
       "      <td>2</td>\n",
       "      <td>Lahore</td>\n",
       "      <td>11126285</td>\n",
       "      <td>5209088</td>\n",
       "      <td>1.1359</td>\n",
       "      <td>Punjab</td>\n",
       "    </tr>\n",
       "    <tr>\n",
       "      <th>2</th>\n",
       "      <td>3</td>\n",
       "      <td>Faisalabad</td>\n",
       "      <td>3204726</td>\n",
       "      <td>2008861</td>\n",
       "      <td>0.5953</td>\n",
       "      <td>Punjab</td>\n",
       "    </tr>\n",
       "    <tr>\n",
       "      <th>3</th>\n",
       "      <td>4</td>\n",
       "      <td>Rawalpindi</td>\n",
       "      <td>2098231</td>\n",
       "      <td>1409768</td>\n",
       "      <td>0.4884</td>\n",
       "      <td>Punjab</td>\n",
       "    </tr>\n",
       "    <tr>\n",
       "      <th>4</th>\n",
       "      <td>5</td>\n",
       "      <td>Gujranwala</td>\n",
       "      <td>2027001</td>\n",
       "      <td>1132509</td>\n",
       "      <td>0.7898</td>\n",
       "      <td>Punjab</td>\n",
       "    </tr>\n",
       "    <tr>\n",
       "      <th>...</th>\n",
       "      <td>...</td>\n",
       "      <td>...</td>\n",
       "      <td>...</td>\n",
       "      <td>...</td>\n",
       "      <td>...</td>\n",
       "      <td>...</td>\n",
       "    </tr>\n",
       "    <tr>\n",
       "      <th>95</th>\n",
       "      <td>96</td>\n",
       "      <td>Tando Muhammad Khan</td>\n",
       "      <td>101863</td>\n",
       "      <td>65396</td>\n",
       "      <td>0.5576</td>\n",
       "      <td>Sindh</td>\n",
       "    </tr>\n",
       "    <tr>\n",
       "      <th>96</th>\n",
       "      <td>97</td>\n",
       "      <td>Kamber Ali Khan</td>\n",
       "      <td>101474</td>\n",
       "      <td>58369</td>\n",
       "      <td>0.7385</td>\n",
       "      <td>Sindh</td>\n",
       "    </tr>\n",
       "    <tr>\n",
       "      <th>97</th>\n",
       "      <td>98</td>\n",
       "      <td>Mirpur Mathelo</td>\n",
       "      <td>100760</td>\n",
       "      <td>42421</td>\n",
       "      <td>1.3752</td>\n",
       "      <td>Sindh</td>\n",
       "    </tr>\n",
       "    <tr>\n",
       "      <th>98</th>\n",
       "      <td>99</td>\n",
       "      <td>Kandhkot</td>\n",
       "      <td>100698</td>\n",
       "      <td>67566</td>\n",
       "      <td>0.4904</td>\n",
       "      <td>Sindh</td>\n",
       "    </tr>\n",
       "    <tr>\n",
       "      <th>99</th>\n",
       "      <td>100</td>\n",
       "      <td>Bhalwal</td>\n",
       "      <td>100135</td>\n",
       "      <td>61523</td>\n",
       "      <td>0.6276</td>\n",
       "      <td>Punjab</td>\n",
       "    </tr>\n",
       "  </tbody>\n",
       "</table>\n",
       "<p>100 rows × 6 columns</p>\n",
       "</div>"
      ],
      "text/plain": [
       "    Rank                 City  Population 2017 Census  Population 1998 Census  \\\n",
       "0      1              Karachi                14916456                 9339023   \n",
       "1      2               Lahore                11126285                 5209088   \n",
       "2      3           Faisalabad                 3204726                 2008861   \n",
       "3      4           Rawalpindi                 2098231                 1409768   \n",
       "4      5           Gujranwala                 2027001                 1132509   \n",
       "..   ...                  ...                     ...                     ...   \n",
       "95    96  Tando Muhammad Khan                  101863                   65396   \n",
       "96    97      Kamber Ali Khan                  101474                   58369   \n",
       "97    98       Mirpur Mathelo                  100760                   42421   \n",
       "98    99             Kandhkot                  100698                   67566   \n",
       "99   100              Bhalwal                  100135                   61523   \n",
       "\n",
       "    Change Province  \n",
       "0   0.5972    Sindh  \n",
       "1   1.1359   Punjab  \n",
       "2   0.5953   Punjab  \n",
       "3   0.4884   Punjab  \n",
       "4   0.7898   Punjab  \n",
       "..     ...      ...  \n",
       "95  0.5576    Sindh  \n",
       "96  0.7385    Sindh  \n",
       "97  1.3752    Sindh  \n",
       "98  0.4904    Sindh  \n",
       "99  0.6276   Punjab  \n",
       "\n",
       "[100 rows x 6 columns]"
      ]
     },
     "execution_count": 2,
     "metadata": {},
     "output_type": "execute_result"
    }
   ],
   "source": [
    "#loading the data frame into the variable\n",
    "Major_Cities_Population = pd.read_csv(\"/kaggle/input/major-cities-in-pakistan-by-population/Major Cities in Pakistan by population.csv\")\n",
    "Major_Cities_Population"
   ]
  },
  {
   "cell_type": "code",
   "execution_count": 3,
   "id": "90aa9569",
   "metadata": {
    "execution": {
     "iopub.execute_input": "2023-03-22T14:26:49.021050Z",
     "iopub.status.busy": "2023-03-22T14:26:49.020616Z",
     "iopub.status.idle": "2023-03-22T14:26:49.027359Z",
     "shell.execute_reply": "2023-03-22T14:26:49.025962Z"
    },
    "papermill": {
     "duration": 0.019501,
     "end_time": "2023-03-22T14:26:49.030165",
     "exception": false,
     "start_time": "2023-03-22T14:26:49.010664",
     "status": "completed"
    },
    "tags": []
   },
   "outputs": [
    {
     "name": "stdout",
     "output_type": "stream",
     "text": [
      "Shape of the dataset is (100, 6)\n"
     ]
    }
   ],
   "source": [
    "#shape of the dataset\n",
    "print(\"Shape of the dataset is\",Major_Cities_Population.shape)"
   ]
  },
  {
   "cell_type": "markdown",
   "id": "95f40b71",
   "metadata": {
    "papermill": {
     "duration": 0.008017,
     "end_time": "2023-03-22T14:26:49.046571",
     "exception": false,
     "start_time": "2023-03-22T14:26:49.038554",
     "status": "completed"
    },
    "tags": []
   },
   "source": [
    "**Insight:**\n",
    "\n",
    "In this dataset, there are 100 Major cities in Pakistan, ranking according to the population."
   ]
  },
  {
   "cell_type": "code",
   "execution_count": 4,
   "id": "5067a9bf",
   "metadata": {
    "execution": {
     "iopub.execute_input": "2023-03-22T14:26:49.066593Z",
     "iopub.status.busy": "2023-03-22T14:26:49.065883Z",
     "iopub.status.idle": "2023-03-22T14:26:49.091481Z",
     "shell.execute_reply": "2023-03-22T14:26:49.089415Z"
    },
    "papermill": {
     "duration": 0.039471,
     "end_time": "2023-03-22T14:26:49.095338",
     "exception": false,
     "start_time": "2023-03-22T14:26:49.055867",
     "status": "completed"
    },
    "tags": []
   },
   "outputs": [
    {
     "name": "stdout",
     "output_type": "stream",
     "text": [
      "<class 'pandas.core.frame.DataFrame'>\n",
      "RangeIndex: 100 entries, 0 to 99\n",
      "Data columns (total 6 columns):\n",
      " #   Column                  Non-Null Count  Dtype  \n",
      "---  ------                  --------------  -----  \n",
      " 0   Rank                    100 non-null    int64  \n",
      " 1   City                    100 non-null    object \n",
      " 2   Population 2017 Census  100 non-null    int64  \n",
      " 3   Population 1998 Census  100 non-null    int64  \n",
      " 4   Change                  100 non-null    float64\n",
      " 5   Province                100 non-null    object \n",
      "dtypes: float64(1), int64(3), object(2)\n",
      "memory usage: 4.8+ KB\n"
     ]
    }
   ],
   "source": [
    "#information about the dataset\n",
    "Major_Cities_Population.info()"
   ]
  },
  {
   "cell_type": "code",
   "execution_count": 5,
   "id": "9ad77ed9",
   "metadata": {
    "execution": {
     "iopub.execute_input": "2023-03-22T14:26:49.115126Z",
     "iopub.status.busy": "2023-03-22T14:26:49.114576Z",
     "iopub.status.idle": "2023-03-22T14:26:49.124956Z",
     "shell.execute_reply": "2023-03-22T14:26:49.123672Z"
    },
    "papermill": {
     "duration": 0.023528,
     "end_time": "2023-03-22T14:26:49.127567",
     "exception": false,
     "start_time": "2023-03-22T14:26:49.104039",
     "status": "completed"
    },
    "tags": []
   },
   "outputs": [
    {
     "data": {
      "text/plain": [
       "Rank                      0\n",
       "City                      0\n",
       "Population 2017 Census    0\n",
       "Population 1998 Census    0\n",
       "Change                    0\n",
       "Province                  0\n",
       "dtype: int64"
      ]
     },
     "execution_count": 5,
     "metadata": {},
     "output_type": "execute_result"
    }
   ],
   "source": [
    "#checking for null values to confirm that there are no NULL values in it.\n",
    "Major_Cities_Population.isna().sum()"
   ]
  },
  {
   "cell_type": "markdown",
   "id": "57696667",
   "metadata": {
    "papermill": {
     "duration": 0.008038,
     "end_time": "2023-03-22T14:26:49.143950",
     "exception": false,
     "start_time": "2023-03-22T14:26:49.135912",
     "status": "completed"
    },
    "tags": []
   },
   "source": [
    "**Insight:**\n",
    "\n",
    "There are no NULL values in the dataset.\n"
   ]
  },
  {
   "cell_type": "markdown",
   "id": "f9a4b206",
   "metadata": {
    "papermill": {
     "duration": 0.008006,
     "end_time": "2023-03-22T14:26:49.160718",
     "exception": false,
     "start_time": "2023-03-22T14:26:49.152712",
     "status": "completed"
    },
    "tags": []
   },
   "source": [
    "# Dataset Summary"
   ]
  },
  {
   "cell_type": "code",
   "execution_count": 6,
   "id": "cb02478e",
   "metadata": {
    "execution": {
     "iopub.execute_input": "2023-03-22T14:26:49.179490Z",
     "iopub.status.busy": "2023-03-22T14:26:49.179039Z",
     "iopub.status.idle": "2023-03-22T14:26:49.205085Z",
     "shell.execute_reply": "2023-03-22T14:26:49.204098Z"
    },
    "papermill": {
     "duration": 0.038804,
     "end_time": "2023-03-22T14:26:49.207880",
     "exception": false,
     "start_time": "2023-03-22T14:26:49.169076",
     "status": "completed"
    },
    "tags": []
   },
   "outputs": [
    {
     "data": {
      "text/html": [
       "<div>\n",
       "<style scoped>\n",
       "    .dataframe tbody tr th:only-of-type {\n",
       "        vertical-align: middle;\n",
       "    }\n",
       "\n",
       "    .dataframe tbody tr th {\n",
       "        vertical-align: top;\n",
       "    }\n",
       "\n",
       "    .dataframe thead th {\n",
       "        text-align: right;\n",
       "    }\n",
       "</style>\n",
       "<table border=\"1\" class=\"dataframe\">\n",
       "  <thead>\n",
       "    <tr style=\"text-align: right;\">\n",
       "      <th></th>\n",
       "      <th>Rank</th>\n",
       "      <th>Population 2017 Census</th>\n",
       "      <th>Population 1998 Census</th>\n",
       "      <th>Change</th>\n",
       "    </tr>\n",
       "  </thead>\n",
       "  <tbody>\n",
       "    <tr>\n",
       "      <th>count</th>\n",
       "      <td>100.000000</td>\n",
       "      <td>1.000000e+02</td>\n",
       "      <td>1.000000e+02</td>\n",
       "      <td>100.000000</td>\n",
       "    </tr>\n",
       "    <tr>\n",
       "      <th>mean</th>\n",
       "      <td>50.500000</td>\n",
       "      <td>6.021669e+05</td>\n",
       "      <td>3.490538e+05</td>\n",
       "      <td>0.800580</td>\n",
       "    </tr>\n",
       "    <tr>\n",
       "      <th>std</th>\n",
       "      <td>29.011492</td>\n",
       "      <td>1.872231e+06</td>\n",
       "      <td>1.082203e+06</td>\n",
       "      <td>0.497305</td>\n",
       "    </tr>\n",
       "    <tr>\n",
       "      <th>min</th>\n",
       "      <td>1.000000</td>\n",
       "      <td>1.001350e+05</td>\n",
       "      <td>3.461500e+04</td>\n",
       "      <td>0.075300</td>\n",
       "    </tr>\n",
       "    <tr>\n",
       "      <th>25%</th>\n",
       "      <td>25.750000</td>\n",
       "      <td>1.241170e+05</td>\n",
       "      <td>7.090350e+04</td>\n",
       "      <td>0.487875</td>\n",
       "    </tr>\n",
       "    <tr>\n",
       "      <th>50%</th>\n",
       "      <td>50.500000</td>\n",
       "      <td>1.752730e+05</td>\n",
       "      <td>1.038950e+05</td>\n",
       "      <td>0.678750</td>\n",
       "    </tr>\n",
       "    <tr>\n",
       "      <th>75%</th>\n",
       "      <td>75.250000</td>\n",
       "      <td>3.580535e+05</td>\n",
       "      <td>1.926292e+05</td>\n",
       "      <td>0.909000</td>\n",
       "    </tr>\n",
       "    <tr>\n",
       "      <th>max</th>\n",
       "      <td>100.000000</td>\n",
       "      <td>1.491646e+07</td>\n",
       "      <td>9.339023e+06</td>\n",
       "      <td>3.177500</td>\n",
       "    </tr>\n",
       "  </tbody>\n",
       "</table>\n",
       "</div>"
      ],
      "text/plain": [
       "             Rank  Population 2017 Census  Population 1998 Census      Change\n",
       "count  100.000000            1.000000e+02            1.000000e+02  100.000000\n",
       "mean    50.500000            6.021669e+05            3.490538e+05    0.800580\n",
       "std     29.011492            1.872231e+06            1.082203e+06    0.497305\n",
       "min      1.000000            1.001350e+05            3.461500e+04    0.075300\n",
       "25%     25.750000            1.241170e+05            7.090350e+04    0.487875\n",
       "50%     50.500000            1.752730e+05            1.038950e+05    0.678750\n",
       "75%     75.250000            3.580535e+05            1.926292e+05    0.909000\n",
       "max    100.000000            1.491646e+07            9.339023e+06    3.177500"
      ]
     },
     "execution_count": 6,
     "metadata": {},
     "output_type": "execute_result"
    }
   ],
   "source": [
    "Major_Cities_Population.describe()"
   ]
  },
  {
   "cell_type": "code",
   "execution_count": 7,
   "id": "8d7f2efc",
   "metadata": {
    "execution": {
     "iopub.execute_input": "2023-03-22T14:26:49.228469Z",
     "iopub.status.busy": "2023-03-22T14:26:49.227719Z",
     "iopub.status.idle": "2023-03-22T14:26:49.243411Z",
     "shell.execute_reply": "2023-03-22T14:26:49.242020Z"
    },
    "papermill": {
     "duration": 0.02849,
     "end_time": "2023-03-22T14:26:49.245761",
     "exception": false,
     "start_time": "2023-03-22T14:26:49.217271",
     "status": "completed"
    },
    "tags": []
   },
   "outputs": [
    {
     "data": {
      "text/html": [
       "<div>\n",
       "<style scoped>\n",
       "    .dataframe tbody tr th:only-of-type {\n",
       "        vertical-align: middle;\n",
       "    }\n",
       "\n",
       "    .dataframe tbody tr th {\n",
       "        vertical-align: top;\n",
       "    }\n",
       "\n",
       "    .dataframe thead th {\n",
       "        text-align: right;\n",
       "    }\n",
       "</style>\n",
       "<table border=\"1\" class=\"dataframe\">\n",
       "  <thead>\n",
       "    <tr style=\"text-align: right;\">\n",
       "      <th></th>\n",
       "      <th>Rank</th>\n",
       "      <th>Population 2017 Census</th>\n",
       "      <th>Population 1998 Census</th>\n",
       "      <th>Change</th>\n",
       "    </tr>\n",
       "  </thead>\n",
       "  <tbody>\n",
       "    <tr>\n",
       "      <th>Rank</th>\n",
       "      <td>1.000000</td>\n",
       "      <td>-0.393395</td>\n",
       "      <td>-0.393106</td>\n",
       "      <td>0.068104</td>\n",
       "    </tr>\n",
       "    <tr>\n",
       "      <th>Population 2017 Census</th>\n",
       "      <td>-0.393395</td>\n",
       "      <td>1.000000</td>\n",
       "      <td>0.990512</td>\n",
       "      <td>-0.016445</td>\n",
       "    </tr>\n",
       "    <tr>\n",
       "      <th>Population 1998 Census</th>\n",
       "      <td>-0.393106</td>\n",
       "      <td>0.990512</td>\n",
       "      <td>1.000000</td>\n",
       "      <td>-0.049426</td>\n",
       "    </tr>\n",
       "    <tr>\n",
       "      <th>Change</th>\n",
       "      <td>0.068104</td>\n",
       "      <td>-0.016445</td>\n",
       "      <td>-0.049426</td>\n",
       "      <td>1.000000</td>\n",
       "    </tr>\n",
       "  </tbody>\n",
       "</table>\n",
       "</div>"
      ],
      "text/plain": [
       "                            Rank  Population 2017 Census  \\\n",
       "Rank                    1.000000               -0.393395   \n",
       "Population 2017 Census -0.393395                1.000000   \n",
       "Population 1998 Census -0.393106                0.990512   \n",
       "Change                  0.068104               -0.016445   \n",
       "\n",
       "                        Population 1998 Census    Change  \n",
       "Rank                                 -0.393106  0.068104  \n",
       "Population 2017 Census                0.990512 -0.016445  \n",
       "Population 1998 Census                1.000000 -0.049426  \n",
       "Change                               -0.049426  1.000000  "
      ]
     },
     "execution_count": 7,
     "metadata": {},
     "output_type": "execute_result"
    }
   ],
   "source": [
    "Major_Cities_Population.corr()"
   ]
  },
  {
   "cell_type": "code",
   "execution_count": 8,
   "id": "36188469",
   "metadata": {
    "execution": {
     "iopub.execute_input": "2023-03-22T14:26:49.265999Z",
     "iopub.status.busy": "2023-03-22T14:26:49.264596Z",
     "iopub.status.idle": "2023-03-22T14:26:49.653846Z",
     "shell.execute_reply": "2023-03-22T14:26:49.652458Z"
    },
    "papermill": {
     "duration": 0.402568,
     "end_time": "2023-03-22T14:26:49.657088",
     "exception": false,
     "start_time": "2023-03-22T14:26:49.254520",
     "status": "completed"
    },
    "tags": []
   },
   "outputs": [
    {
     "data": {
      "image/png": "[encoded data removed]",
      "text/plain": [
       "<Figure size 500x500 with 2 Axes>"
      ]
     },
     "metadata": {},
     "output_type": "display_data"
    }
   ],
   "source": [
    "# styling and figure size\n",
    "\n",
    "plt.style.use(\"fivethirtyeight\")\n",
    "plt.figure(figsize=(5,5))\n",
    "\n",
    "# plotting correlation heatmap\n",
    "dataplot = sns.heatmap(Major_Cities_Population.corr(), cmap=\"BuPu\", annot=True)\n",
    "  \n",
    "# displaying heatmap\n",
    "plt.show()"
   ]
  },
  {
   "cell_type": "markdown",
   "id": "5ba4c9cf",
   "metadata": {
    "papermill": {
     "duration": 0.0096,
     "end_time": "2023-03-22T14:26:49.676768",
     "exception": false,
     "start_time": "2023-03-22T14:26:49.667168",
     "status": "completed"
    },
    "tags": []
   },
   "source": [
    "# EDA & Visualizations"
   ]
  },
  {
   "cell_type": "code",
   "execution_count": 9,
   "id": "606cfa2b",
   "metadata": {
    "execution": {
     "iopub.execute_input": "2023-03-22T14:26:49.698657Z",
     "iopub.status.busy": "2023-03-22T14:26:49.698245Z",
     "iopub.status.idle": "2023-03-22T14:26:49.712640Z",
     "shell.execute_reply": "2023-03-22T14:26:49.711576Z"
    },
    "papermill": {
     "duration": 0.02782,
     "end_time": "2023-03-22T14:26:49.714851",
     "exception": false,
     "start_time": "2023-03-22T14:26:49.687031",
     "status": "completed"
    },
    "tags": []
   },
   "outputs": [
    {
     "data": {
      "text/html": [
       "<div>\n",
       "<style scoped>\n",
       "    .dataframe tbody tr th:only-of-type {\n",
       "        vertical-align: middle;\n",
       "    }\n",
       "\n",
       "    .dataframe tbody tr th {\n",
       "        vertical-align: top;\n",
       "    }\n",
       "\n",
       "    .dataframe thead th {\n",
       "        text-align: right;\n",
       "    }\n",
       "</style>\n",
       "<table border=\"1\" class=\"dataframe\">\n",
       "  <thead>\n",
       "    <tr style=\"text-align: right;\">\n",
       "      <th></th>\n",
       "      <th>Rank</th>\n",
       "      <th>City</th>\n",
       "      <th>Population 2017 Census</th>\n",
       "      <th>Population 1998 Census</th>\n",
       "      <th>Change</th>\n",
       "      <th>Province</th>\n",
       "    </tr>\n",
       "  </thead>\n",
       "  <tbody>\n",
       "    <tr>\n",
       "      <th>0</th>\n",
       "      <td>1</td>\n",
       "      <td>Karachi</td>\n",
       "      <td>14916456</td>\n",
       "      <td>9339023</td>\n",
       "      <td>0.5972</td>\n",
       "      <td>Sindh</td>\n",
       "    </tr>\n",
       "    <tr>\n",
       "      <th>1</th>\n",
       "      <td>2</td>\n",
       "      <td>Lahore</td>\n",
       "      <td>11126285</td>\n",
       "      <td>5209088</td>\n",
       "      <td>1.1359</td>\n",
       "      <td>Punjab</td>\n",
       "    </tr>\n",
       "    <tr>\n",
       "      <th>2</th>\n",
       "      <td>3</td>\n",
       "      <td>Faisalabad</td>\n",
       "      <td>3204726</td>\n",
       "      <td>2008861</td>\n",
       "      <td>0.5953</td>\n",
       "      <td>Punjab</td>\n",
       "    </tr>\n",
       "    <tr>\n",
       "      <th>3</th>\n",
       "      <td>4</td>\n",
       "      <td>Rawalpindi</td>\n",
       "      <td>2098231</td>\n",
       "      <td>1409768</td>\n",
       "      <td>0.4884</td>\n",
       "      <td>Punjab</td>\n",
       "    </tr>\n",
       "    <tr>\n",
       "      <th>4</th>\n",
       "      <td>5</td>\n",
       "      <td>Gujranwala</td>\n",
       "      <td>2027001</td>\n",
       "      <td>1132509</td>\n",
       "      <td>0.7898</td>\n",
       "      <td>Punjab</td>\n",
       "    </tr>\n",
       "    <tr>\n",
       "      <th>5</th>\n",
       "      <td>6</td>\n",
       "      <td>Peshawar</td>\n",
       "      <td>1970042</td>\n",
       "      <td>982816</td>\n",
       "      <td>1.0045</td>\n",
       "      <td>Khyber Pakhtunkhwa</td>\n",
       "    </tr>\n",
       "    <tr>\n",
       "      <th>6</th>\n",
       "      <td>7</td>\n",
       "      <td>Multan</td>\n",
       "      <td>1871843</td>\n",
       "      <td>1197384</td>\n",
       "      <td>0.5633</td>\n",
       "      <td>Punjab</td>\n",
       "    </tr>\n",
       "    <tr>\n",
       "      <th>7</th>\n",
       "      <td>8</td>\n",
       "      <td>Hyderabad</td>\n",
       "      <td>1734309</td>\n",
       "      <td>1166894</td>\n",
       "      <td>0.4863</td>\n",
       "      <td>Sindh</td>\n",
       "    </tr>\n",
       "    <tr>\n",
       "      <th>8</th>\n",
       "      <td>9</td>\n",
       "      <td>Islamabad</td>\n",
       "      <td>1009832</td>\n",
       "      <td>529180</td>\n",
       "      <td>0.9083</td>\n",
       "      <td>Islamabad</td>\n",
       "    </tr>\n",
       "    <tr>\n",
       "      <th>9</th>\n",
       "      <td>10</td>\n",
       "      <td>Quetta</td>\n",
       "      <td>1001205</td>\n",
       "      <td>565137</td>\n",
       "      <td>0.7716</td>\n",
       "      <td>Balochistan</td>\n",
       "    </tr>\n",
       "  </tbody>\n",
       "</table>\n",
       "</div>"
      ],
      "text/plain": [
       "   Rank        City  Population 2017 Census  Population 1998 Census  Change  \\\n",
       "0     1     Karachi                14916456                 9339023  0.5972   \n",
       "1     2      Lahore                11126285                 5209088  1.1359   \n",
       "2     3  Faisalabad                 3204726                 2008861  0.5953   \n",
       "3     4  Rawalpindi                 2098231                 1409768  0.4884   \n",
       "4     5  Gujranwala                 2027001                 1132509  0.7898   \n",
       "5     6    Peshawar                 1970042                  982816  1.0045   \n",
       "6     7      Multan                 1871843                 1197384  0.5633   \n",
       "7     8   Hyderabad                 1734309                 1166894  0.4863   \n",
       "8     9   Islamabad                 1009832                  529180  0.9083   \n",
       "9    10      Quetta                 1001205                  565137  0.7716   \n",
       "\n",
       "             Province  \n",
       "0               Sindh  \n",
       "1              Punjab  \n",
       "2              Punjab  \n",
       "3              Punjab  \n",
       "4              Punjab  \n",
       "5  Khyber Pakhtunkhwa  \n",
       "6              Punjab  \n",
       "7               Sindh  \n",
       "8           Islamabad  \n",
       "9         Balochistan  "
      ]
     },
     "execution_count": 9,
     "metadata": {},
     "output_type": "execute_result"
    }
   ],
   "source": [
    "Major_Cities_Population.head(10)"
   ]
  },
  {
   "cell_type": "markdown",
   "id": "7bc9c0b8",
   "metadata": {
    "papermill": {
     "duration": 0.009633,
     "end_time": "2023-03-22T14:26:49.734590",
     "exception": false,
     "start_time": "2023-03-22T14:26:49.724957",
     "status": "completed"
    },
    "tags": []
   },
   "source": [
    "**Note:**\n",
    "\n",
    "Cities are ranked according to the census 2017.\n",
    "So to know the population of major cities in 1998 we have to do it manually!"
   ]
  },
  {
   "cell_type": "code",
   "execution_count": 10,
   "id": "73d6727d",
   "metadata": {
    "execution": {
     "iopub.execute_input": "2023-03-22T14:26:49.757458Z",
     "iopub.status.busy": "2023-03-22T14:26:49.756427Z",
     "iopub.status.idle": "2023-03-22T14:26:49.766671Z",
     "shell.execute_reply": "2023-03-22T14:26:49.765820Z"
    },
    "papermill": {
     "duration": 0.024485,
     "end_time": "2023-03-22T14:26:49.769139",
     "exception": false,
     "start_time": "2023-03-22T14:26:49.744654",
     "status": "completed"
    },
    "tags": []
   },
   "outputs": [
    {
     "data": {
      "text/plain": [
       "Punjab                59\n",
       "Sindh                 22\n",
       "Khyber Pakhtunkhwa    11\n",
       "Balochistan            5\n",
       "Azad Kashmir           2\n",
       "Islamabad              1\n",
       "Name: Province, dtype: int64"
      ]
     },
     "execution_count": 10,
     "metadata": {},
     "output_type": "execute_result"
    }
   ],
   "source": [
    "Major_Cities_Population[\"Province\"].value_counts()"
   ]
  },
  {
   "cell_type": "code",
   "execution_count": 11,
   "id": "2affb450",
   "metadata": {
    "execution": {
     "iopub.execute_input": "2023-03-22T14:26:49.792179Z",
     "iopub.status.busy": "2023-03-22T14:26:49.791061Z",
     "iopub.status.idle": "2023-03-22T14:26:50.168709Z",
     "shell.execute_reply": "2023-03-22T14:26:50.167383Z"
    },
    "papermill": {
     "duration": 0.39215,
     "end_time": "2023-03-22T14:26:50.171557",
     "exception": false,
     "start_time": "2023-03-22T14:26:49.779407",
     "status": "completed"
    },
    "tags": []
   },
   "outputs": [
    {
     "data": {
      "image/png": "[encoded data removed]",
      "text/plain": [
       "<Figure size 2000x1000 with 1 Axes>"
      ]
     },
     "metadata": {},
     "output_type": "display_data"
    }
   ],
   "source": [
    "#plotting the cities according to the provinces\n",
    "\n",
    "plt.style.use('fivethirtyeight')\n",
    "plt.figure(figsize=(20,10))\n",
    "plt.title(\"Number of Major Populous cities w.r.t their Province \")\n",
    "country_count_plot = sns.countplot(data=Major_Cities_Population,x=\"Province\")\n",
    "country_count_plot.set_xlabel(\"Province\")\n",
    "country_count_plot.set_ylabel(\"Number of Times\")\n",
    "plt.show()"
   ]
  },
  {
   "cell_type": "markdown",
   "id": "0b047aba",
   "metadata": {
    "papermill": {
     "duration": 0.010717,
     "end_time": "2023-03-22T14:26:50.193881",
     "exception": false,
     "start_time": "2023-03-22T14:26:50.183164",
     "status": "completed"
    },
    "tags": []
   },
   "source": [
    "**Insight:**\n",
    "* Punjab has the most major populous cities 59 out of 100.\n",
    "* On the 2nd we have Sindh with 22 major cities.\n",
    "* Khyber Pakhtunkhwa is in 3rd place with 11 cities.\n",
    "* Balochistan is in 4th place with 5 cities.\n",
    "* Azad Kashmir with only 2 cities.\n",
    "\n",
    "**Note:**\n",
    "Islamabad is not a province, but it's the capital of Pakistan.\n",
    "Also we don't have enough data about Gilgit Baltistan "
   ]
  },
  {
   "cell_type": "code",
   "execution_count": 12,
   "id": "ea533233",
   "metadata": {
    "execution": {
     "iopub.execute_input": "2023-03-22T14:26:50.218318Z",
     "iopub.status.busy": "2023-03-22T14:26:50.217546Z",
     "iopub.status.idle": "2023-03-22T14:26:50.232213Z",
     "shell.execute_reply": "2023-03-22T14:26:50.231220Z"
    },
    "papermill": {
     "duration": 0.029908,
     "end_time": "2023-03-22T14:26:50.234759",
     "exception": false,
     "start_time": "2023-03-22T14:26:50.204851",
     "status": "completed"
    },
    "tags": []
   },
   "outputs": [
    {
     "data": {
      "text/html": [
       "<div>\n",
       "<style scoped>\n",
       "    .dataframe tbody tr th:only-of-type {\n",
       "        vertical-align: middle;\n",
       "    }\n",
       "\n",
       "    .dataframe tbody tr th {\n",
       "        vertical-align: top;\n",
       "    }\n",
       "\n",
       "    .dataframe thead th {\n",
       "        text-align: right;\n",
       "    }\n",
       "</style>\n",
       "<table border=\"1\" class=\"dataframe\">\n",
       "  <thead>\n",
       "    <tr style=\"text-align: right;\">\n",
       "      <th></th>\n",
       "      <th>Rank</th>\n",
       "      <th>City</th>\n",
       "      <th>Population 2017 Census</th>\n",
       "      <th>Population 1998 Census</th>\n",
       "      <th>Change</th>\n",
       "      <th>Province</th>\n",
       "    </tr>\n",
       "  </thead>\n",
       "  <tbody>\n",
       "    <tr>\n",
       "      <th>0</th>\n",
       "      <td>1</td>\n",
       "      <td>Karachi</td>\n",
       "      <td>14916456</td>\n",
       "      <td>9339023</td>\n",
       "      <td>0.5972</td>\n",
       "      <td>Sindh</td>\n",
       "    </tr>\n",
       "    <tr>\n",
       "      <th>1</th>\n",
       "      <td>2</td>\n",
       "      <td>Lahore</td>\n",
       "      <td>11126285</td>\n",
       "      <td>5209088</td>\n",
       "      <td>1.1359</td>\n",
       "      <td>Punjab</td>\n",
       "    </tr>\n",
       "    <tr>\n",
       "      <th>2</th>\n",
       "      <td>3</td>\n",
       "      <td>Faisalabad</td>\n",
       "      <td>3204726</td>\n",
       "      <td>2008861</td>\n",
       "      <td>0.5953</td>\n",
       "      <td>Punjab</td>\n",
       "    </tr>\n",
       "    <tr>\n",
       "      <th>3</th>\n",
       "      <td>4</td>\n",
       "      <td>Rawalpindi</td>\n",
       "      <td>2098231</td>\n",
       "      <td>1409768</td>\n",
       "      <td>0.4884</td>\n",
       "      <td>Punjab</td>\n",
       "    </tr>\n",
       "    <tr>\n",
       "      <th>4</th>\n",
       "      <td>5</td>\n",
       "      <td>Gujranwala</td>\n",
       "      <td>2027001</td>\n",
       "      <td>1132509</td>\n",
       "      <td>0.7898</td>\n",
       "      <td>Punjab</td>\n",
       "    </tr>\n",
       "    <tr>\n",
       "      <th>5</th>\n",
       "      <td>6</td>\n",
       "      <td>Peshawar</td>\n",
       "      <td>1970042</td>\n",
       "      <td>982816</td>\n",
       "      <td>1.0045</td>\n",
       "      <td>Khyber Pakhtunkhwa</td>\n",
       "    </tr>\n",
       "    <tr>\n",
       "      <th>6</th>\n",
       "      <td>7</td>\n",
       "      <td>Multan</td>\n",
       "      <td>1871843</td>\n",
       "      <td>1197384</td>\n",
       "      <td>0.5633</td>\n",
       "      <td>Punjab</td>\n",
       "    </tr>\n",
       "    <tr>\n",
       "      <th>7</th>\n",
       "      <td>8</td>\n",
       "      <td>Hyderabad</td>\n",
       "      <td>1734309</td>\n",
       "      <td>1166894</td>\n",
       "      <td>0.4863</td>\n",
       "      <td>Sindh</td>\n",
       "    </tr>\n",
       "    <tr>\n",
       "      <th>8</th>\n",
       "      <td>9</td>\n",
       "      <td>Islamabad</td>\n",
       "      <td>1009832</td>\n",
       "      <td>529180</td>\n",
       "      <td>0.9083</td>\n",
       "      <td>Islamabad</td>\n",
       "    </tr>\n",
       "    <tr>\n",
       "      <th>9</th>\n",
       "      <td>10</td>\n",
       "      <td>Quetta</td>\n",
       "      <td>1001205</td>\n",
       "      <td>565137</td>\n",
       "      <td>0.7716</td>\n",
       "      <td>Balochistan</td>\n",
       "    </tr>\n",
       "  </tbody>\n",
       "</table>\n",
       "</div>"
      ],
      "text/plain": [
       "   Rank        City  Population 2017 Census  Population 1998 Census  Change  \\\n",
       "0     1     Karachi                14916456                 9339023  0.5972   \n",
       "1     2      Lahore                11126285                 5209088  1.1359   \n",
       "2     3  Faisalabad                 3204726                 2008861  0.5953   \n",
       "3     4  Rawalpindi                 2098231                 1409768  0.4884   \n",
       "4     5  Gujranwala                 2027001                 1132509  0.7898   \n",
       "5     6    Peshawar                 1970042                  982816  1.0045   \n",
       "6     7      Multan                 1871843                 1197384  0.5633   \n",
       "7     8   Hyderabad                 1734309                 1166894  0.4863   \n",
       "8     9   Islamabad                 1009832                  529180  0.9083   \n",
       "9    10      Quetta                 1001205                  565137  0.7716   \n",
       "\n",
       "             Province  \n",
       "0               Sindh  \n",
       "1              Punjab  \n",
       "2              Punjab  \n",
       "3              Punjab  \n",
       "4              Punjab  \n",
       "5  Khyber Pakhtunkhwa  \n",
       "6              Punjab  \n",
       "7               Sindh  \n",
       "8           Islamabad  \n",
       "9         Balochistan  "
      ]
     },
     "execution_count": 12,
     "metadata": {},
     "output_type": "execute_result"
    }
   ],
   "source": [
    "#Top 10 Major Cities by Population in 2017\n",
    "Cities_in_2017 = Major_Cities_Population.head(10)\n",
    "Cities_in_2017"
   ]
  },
  {
   "cell_type": "markdown",
   "id": "ad7aac1e",
   "metadata": {
    "papermill": {
     "duration": 0.010877,
     "end_time": "2023-03-22T14:26:50.257691",
     "exception": false,
     "start_time": "2023-03-22T14:26:50.246814",
     "status": "completed"
    },
    "tags": []
   },
   "source": [
    "**Note:**\n",
    "Population count is in millions."
   ]
  },
  {
   "cell_type": "code",
   "execution_count": 13,
   "id": "8bcc3540",
   "metadata": {
    "execution": {
     "iopub.execute_input": "2023-03-22T14:26:50.282764Z",
     "iopub.status.busy": "2023-03-22T14:26:50.281476Z",
     "iopub.status.idle": "2023-03-22T14:26:50.290634Z",
     "shell.execute_reply": "2023-03-22T14:26:50.289443Z"
    },
    "papermill": {
     "duration": 0.024288,
     "end_time": "2023-03-22T14:26:50.293249",
     "exception": false,
     "start_time": "2023-03-22T14:26:50.268961",
     "status": "completed"
    },
    "tags": []
   },
   "outputs": [
    {
     "data": {
      "text/plain": [
       "0     9339023\n",
       "1     5209088\n",
       "2     2008861\n",
       "3     1409768\n",
       "6     1197384\n",
       "       ...   \n",
       "72      49534\n",
       "97      42421\n",
       "91      38986\n",
       "68      35559\n",
       "93      34615\n",
       "Name: Population 1998 Census, Length: 100, dtype: int64"
      ]
     },
     "execution_count": 13,
     "metadata": {},
     "output_type": "execute_result"
    }
   ],
   "source": [
    "Major_Cities_Population[\"Population 1998 Census\"].sort_values(ascending=False)"
   ]
  },
  {
   "cell_type": "code",
   "execution_count": 14,
   "id": "dad83af3",
   "metadata": {
    "execution": {
     "iopub.execute_input": "2023-03-22T14:26:50.319095Z",
     "iopub.status.busy": "2023-03-22T14:26:50.318646Z",
     "iopub.status.idle": "2023-03-22T14:26:50.334897Z",
     "shell.execute_reply": "2023-03-22T14:26:50.333583Z"
    },
    "papermill": {
     "duration": 0.0322,
     "end_time": "2023-03-22T14:26:50.337632",
     "exception": false,
     "start_time": "2023-03-22T14:26:50.305432",
     "status": "completed"
    },
    "tags": []
   },
   "outputs": [
    {
     "data": {
      "text/html": [
       "<div>\n",
       "<style scoped>\n",
       "    .dataframe tbody tr th:only-of-type {\n",
       "        vertical-align: middle;\n",
       "    }\n",
       "\n",
       "    .dataframe tbody tr th {\n",
       "        vertical-align: top;\n",
       "    }\n",
       "\n",
       "    .dataframe thead th {\n",
       "        text-align: right;\n",
       "    }\n",
       "</style>\n",
       "<table border=\"1\" class=\"dataframe\">\n",
       "  <thead>\n",
       "    <tr style=\"text-align: right;\">\n",
       "      <th></th>\n",
       "      <th>Rank</th>\n",
       "      <th>City</th>\n",
       "      <th>Population 2017 Census</th>\n",
       "      <th>Population 1998 Census</th>\n",
       "      <th>Change</th>\n",
       "      <th>Province</th>\n",
       "    </tr>\n",
       "  </thead>\n",
       "  <tbody>\n",
       "    <tr>\n",
       "      <th>0</th>\n",
       "      <td>1</td>\n",
       "      <td>Karachi</td>\n",
       "      <td>14916456</td>\n",
       "      <td>9339023</td>\n",
       "      <td>0.5972</td>\n",
       "      <td>Sindh</td>\n",
       "    </tr>\n",
       "    <tr>\n",
       "      <th>1</th>\n",
       "      <td>2</td>\n",
       "      <td>Lahore</td>\n",
       "      <td>11126285</td>\n",
       "      <td>5209088</td>\n",
       "      <td>1.1359</td>\n",
       "      <td>Punjab</td>\n",
       "    </tr>\n",
       "    <tr>\n",
       "      <th>2</th>\n",
       "      <td>3</td>\n",
       "      <td>Faisalabad</td>\n",
       "      <td>3204726</td>\n",
       "      <td>2008861</td>\n",
       "      <td>0.5953</td>\n",
       "      <td>Punjab</td>\n",
       "    </tr>\n",
       "    <tr>\n",
       "      <th>3</th>\n",
       "      <td>4</td>\n",
       "      <td>Rawalpindi</td>\n",
       "      <td>2098231</td>\n",
       "      <td>1409768</td>\n",
       "      <td>0.4884</td>\n",
       "      <td>Punjab</td>\n",
       "    </tr>\n",
       "    <tr>\n",
       "      <th>6</th>\n",
       "      <td>7</td>\n",
       "      <td>Multan</td>\n",
       "      <td>1871843</td>\n",
       "      <td>1197384</td>\n",
       "      <td>0.5633</td>\n",
       "      <td>Punjab</td>\n",
       "    </tr>\n",
       "    <tr>\n",
       "      <th>7</th>\n",
       "      <td>8</td>\n",
       "      <td>Hyderabad</td>\n",
       "      <td>1734309</td>\n",
       "      <td>1166894</td>\n",
       "      <td>0.4863</td>\n",
       "      <td>Sindh</td>\n",
       "    </tr>\n",
       "    <tr>\n",
       "      <th>4</th>\n",
       "      <td>5</td>\n",
       "      <td>Gujranwala</td>\n",
       "      <td>2027001</td>\n",
       "      <td>1132509</td>\n",
       "      <td>0.7898</td>\n",
       "      <td>Punjab</td>\n",
       "    </tr>\n",
       "    <tr>\n",
       "      <th>5</th>\n",
       "      <td>6</td>\n",
       "      <td>Peshawar</td>\n",
       "      <td>1970042</td>\n",
       "      <td>982816</td>\n",
       "      <td>1.0045</td>\n",
       "      <td>Khyber Pakhtunkhwa</td>\n",
       "    </tr>\n",
       "    <tr>\n",
       "      <th>9</th>\n",
       "      <td>10</td>\n",
       "      <td>Quetta</td>\n",
       "      <td>1001205</td>\n",
       "      <td>565137</td>\n",
       "      <td>0.7716</td>\n",
       "      <td>Balochistan</td>\n",
       "    </tr>\n",
       "    <tr>\n",
       "      <th>8</th>\n",
       "      <td>9</td>\n",
       "      <td>Islamabad</td>\n",
       "      <td>1009832</td>\n",
       "      <td>529180</td>\n",
       "      <td>0.9083</td>\n",
       "      <td>Islamabad</td>\n",
       "    </tr>\n",
       "  </tbody>\n",
       "</table>\n",
       "</div>"
      ],
      "text/plain": [
       "   Rank        City  Population 2017 Census  Population 1998 Census  Change  \\\n",
       "0     1     Karachi                14916456                 9339023  0.5972   \n",
       "1     2      Lahore                11126285                 5209088  1.1359   \n",
       "2     3  Faisalabad                 3204726                 2008861  0.5953   \n",
       "3     4  Rawalpindi                 2098231                 1409768  0.4884   \n",
       "6     7      Multan                 1871843                 1197384  0.5633   \n",
       "7     8   Hyderabad                 1734309                 1166894  0.4863   \n",
       "4     5  Gujranwala                 2027001                 1132509  0.7898   \n",
       "5     6    Peshawar                 1970042                  982816  1.0045   \n",
       "9    10      Quetta                 1001205                  565137  0.7716   \n",
       "8     9   Islamabad                 1009832                  529180  0.9083   \n",
       "\n",
       "             Province  \n",
       "0               Sindh  \n",
       "1              Punjab  \n",
       "2              Punjab  \n",
       "3              Punjab  \n",
       "6              Punjab  \n",
       "7               Sindh  \n",
       "4              Punjab  \n",
       "5  Khyber Pakhtunkhwa  \n",
       "9         Balochistan  \n",
       "8           Islamabad  "
      ]
     },
     "execution_count": 14,
     "metadata": {},
     "output_type": "execute_result"
    }
   ],
   "source": [
    "#Top 10 Major Cities by Population in 1998\n",
    "Cities_in_1998 = Major_Cities_Population.sort_values(by=['Population 1998 Census'], ascending=False).head(10)\n",
    "Cities_in_1998"
   ]
  },
  {
   "cell_type": "code",
   "execution_count": 15,
   "id": "51ea4e8e",
   "metadata": {
    "execution": {
     "iopub.execute_input": "2023-03-22T14:26:50.363745Z",
     "iopub.status.busy": "2023-03-22T14:26:50.362874Z",
     "iopub.status.idle": "2023-03-22T14:26:50.703604Z",
     "shell.execute_reply": "2023-03-22T14:26:50.702596Z"
    },
    "papermill": {
     "duration": 0.356771,
     "end_time": "2023-03-22T14:26:50.706202",
     "exception": false,
     "start_time": "2023-03-22T14:26:50.349431",
     "status": "completed"
    },
    "tags": []
   },
   "outputs": [
    {
     "name": "stderr",
     "output_type": "stream",
     "text": [
      "/opt/conda/lib/python3.7/site-packages/ipykernel_launcher.py:13: UserWarning: FixedFormatter should only be used together with FixedLocator\n",
      "  del sys.path[0]\n"
     ]
    },
    {
     "data": {
      "image/png": "[encoded data removed]",
      "text/plain": [
       "<Figure size 1500x600 with 1 Axes>"
      ]
     },
     "metadata": {},
     "output_type": "display_data"
    }
   ],
   "source": [
    "plt.figure(figsize=(15,6))\n",
    "plt.style.use('fivethirtyeight')\n",
    "plt.title(\"Top 10 Major Cities in Pakistan by population in 1998\")\n",
    "\n",
    "\n",
    "Plot_2017 = sns.barplot(data=Cities_in_1998,x=\"City\",y=\"Population 1998 Census\")\n",
    "Plot_2017.set_ylabel(\"Millions\")\n",
    "Plot_2017\n",
    "\n",
    "# after plotting the data, format the labels\n",
    "current_values = plt.gca().get_yticks()\n",
    "# using format string '{:.0f}' here but you can choose others\n",
    "plt.gca().set_yticklabels(['{:.0f}'.format(x) for x in current_values])\n",
    "\n",
    "plt.show()"
   ]
  },
  {
   "cell_type": "code",
   "execution_count": 16,
   "id": "8145786b",
   "metadata": {
    "execution": {
     "iopub.execute_input": "2023-03-22T14:26:50.734753Z",
     "iopub.status.busy": "2023-03-22T14:26:50.733848Z",
     "iopub.status.idle": "2023-03-22T14:26:51.094144Z",
     "shell.execute_reply": "2023-03-22T14:26:51.093113Z"
    },
    "papermill": {
     "duration": 0.377437,
     "end_time": "2023-03-22T14:26:51.096614",
     "exception": false,
     "start_time": "2023-03-22T14:26:50.719177",
     "status": "completed"
    },
    "tags": []
   },
   "outputs": [
    {
     "name": "stderr",
     "output_type": "stream",
     "text": [
      "/opt/conda/lib/python3.7/site-packages/ipykernel_launcher.py:13: UserWarning: FixedFormatter should only be used together with FixedLocator\n",
      "  del sys.path[0]\n"
     ]
    },
    {
     "data": {
      "image/png": "[encoded data removed]",
      "text/plain": [
       "<Figure size 1500x600 with 1 Axes>"
      ]
     },
     "metadata": {},
     "output_type": "display_data"
    }
   ],
   "source": [
    "plt.figure(figsize=(15,6))\n",
    "plt.style.use('fivethirtyeight')\n",
    "plt.title(\"Top 10 Major Cities in Pakistan by population in 2017\")\n",
    "\n",
    "\n",
    "Plot_2017 = sns.barplot(data=Cities_in_2017,x=\"City\",y=\"Population 2017 Census\")\n",
    "Plot_2017.set_ylabel(\"Millions\")\n",
    "Plot_2017\n",
    "\n",
    "# after plotting the data, format the labels\n",
    "current_values = plt.gca().get_yticks()\n",
    "# using format string '{:.0f}' here but you can choose others\n",
    "plt.gca().set_yticklabels(['{:.0f}'.format(x) for x in current_values])\n",
    "\n",
    "plt.show()"
   ]
  },
  {
   "cell_type": "markdown",
   "id": "b22c94d4",
   "metadata": {
    "papermill": {
     "duration": 0.014129,
     "end_time": "2023-03-22T14:26:51.124967",
     "exception": false,
     "start_time": "2023-03-22T14:26:51.110838",
     "status": "completed"
    },
    "tags": []
   },
   "source": [
    "**Insight:**\n",
    "* Population growth from 1998 to 2017 is very huge compared to other the countries.\n",
    "* Top 10 cities of 1998 and 2017 are the same, but the only difference is the change in few cities is their ranking of population example in 1998 Multan was 5th but in 2017\n",
    "Gujranwala is the 5th\n"
   ]
  },
  {
   "cell_type": "code",
   "execution_count": 17,
   "id": "ba5d95e9",
   "metadata": {
    "execution": {
     "iopub.execute_input": "2023-03-22T14:26:51.155672Z",
     "iopub.status.busy": "2023-03-22T14:26:51.154830Z",
     "iopub.status.idle": "2023-03-22T14:26:51.174208Z",
     "shell.execute_reply": "2023-03-22T14:26:51.172877Z"
    },
    "papermill": {
     "duration": 0.037845,
     "end_time": "2023-03-22T14:26:51.176926",
     "exception": false,
     "start_time": "2023-03-22T14:26:51.139081",
     "status": "completed"
    },
    "tags": []
   },
   "outputs": [
    {
     "data": {
      "text/html": [
       "<div>\n",
       "<style scoped>\n",
       "    .dataframe tbody tr th:only-of-type {\n",
       "        vertical-align: middle;\n",
       "    }\n",
       "\n",
       "    .dataframe tbody tr th {\n",
       "        vertical-align: top;\n",
       "    }\n",
       "\n",
       "    .dataframe thead th {\n",
       "        text-align: right;\n",
       "    }\n",
       "</style>\n",
       "<table border=\"1\" class=\"dataframe\">\n",
       "  <thead>\n",
       "    <tr style=\"text-align: right;\">\n",
       "      <th></th>\n",
       "      <th>Rank</th>\n",
       "      <th>City</th>\n",
       "      <th>Population 2017 Census</th>\n",
       "      <th>Population 1998 Census</th>\n",
       "      <th>Change</th>\n",
       "      <th>Province</th>\n",
       "    </tr>\n",
       "  </thead>\n",
       "  <tbody>\n",
       "    <tr>\n",
       "      <th>0</th>\n",
       "      <td>1</td>\n",
       "      <td>Karachi</td>\n",
       "      <td>14916456</td>\n",
       "      <td>9339023</td>\n",
       "      <td>59.72</td>\n",
       "      <td>Sindh</td>\n",
       "    </tr>\n",
       "    <tr>\n",
       "      <th>1</th>\n",
       "      <td>2</td>\n",
       "      <td>Lahore</td>\n",
       "      <td>11126285</td>\n",
       "      <td>5209088</td>\n",
       "      <td>113.59</td>\n",
       "      <td>Punjab</td>\n",
       "    </tr>\n",
       "    <tr>\n",
       "      <th>2</th>\n",
       "      <td>3</td>\n",
       "      <td>Faisalabad</td>\n",
       "      <td>3204726</td>\n",
       "      <td>2008861</td>\n",
       "      <td>59.53</td>\n",
       "      <td>Punjab</td>\n",
       "    </tr>\n",
       "    <tr>\n",
       "      <th>3</th>\n",
       "      <td>4</td>\n",
       "      <td>Rawalpindi</td>\n",
       "      <td>2098231</td>\n",
       "      <td>1409768</td>\n",
       "      <td>48.84</td>\n",
       "      <td>Punjab</td>\n",
       "    </tr>\n",
       "    <tr>\n",
       "      <th>4</th>\n",
       "      <td>5</td>\n",
       "      <td>Gujranwala</td>\n",
       "      <td>2027001</td>\n",
       "      <td>1132509</td>\n",
       "      <td>78.98</td>\n",
       "      <td>Punjab</td>\n",
       "    </tr>\n",
       "    <tr>\n",
       "      <th>...</th>\n",
       "      <td>...</td>\n",
       "      <td>...</td>\n",
       "      <td>...</td>\n",
       "      <td>...</td>\n",
       "      <td>...</td>\n",
       "      <td>...</td>\n",
       "    </tr>\n",
       "    <tr>\n",
       "      <th>95</th>\n",
       "      <td>96</td>\n",
       "      <td>Tando Muhammad Khan</td>\n",
       "      <td>101863</td>\n",
       "      <td>65396</td>\n",
       "      <td>55.76</td>\n",
       "      <td>Sindh</td>\n",
       "    </tr>\n",
       "    <tr>\n",
       "      <th>96</th>\n",
       "      <td>97</td>\n",
       "      <td>Kamber Ali Khan</td>\n",
       "      <td>101474</td>\n",
       "      <td>58369</td>\n",
       "      <td>73.85</td>\n",
       "      <td>Sindh</td>\n",
       "    </tr>\n",
       "    <tr>\n",
       "      <th>97</th>\n",
       "      <td>98</td>\n",
       "      <td>Mirpur Mathelo</td>\n",
       "      <td>100760</td>\n",
       "      <td>42421</td>\n",
       "      <td>137.52</td>\n",
       "      <td>Sindh</td>\n",
       "    </tr>\n",
       "    <tr>\n",
       "      <th>98</th>\n",
       "      <td>99</td>\n",
       "      <td>Kandhkot</td>\n",
       "      <td>100698</td>\n",
       "      <td>67566</td>\n",
       "      <td>49.04</td>\n",
       "      <td>Sindh</td>\n",
       "    </tr>\n",
       "    <tr>\n",
       "      <th>99</th>\n",
       "      <td>100</td>\n",
       "      <td>Bhalwal</td>\n",
       "      <td>100135</td>\n",
       "      <td>61523</td>\n",
       "      <td>62.76</td>\n",
       "      <td>Punjab</td>\n",
       "    </tr>\n",
       "  </tbody>\n",
       "</table>\n",
       "<p>100 rows × 6 columns</p>\n",
       "</div>"
      ],
      "text/plain": [
       "    Rank                 City  Population 2017 Census  Population 1998 Census  \\\n",
       "0      1              Karachi                14916456                 9339023   \n",
       "1      2               Lahore                11126285                 5209088   \n",
       "2      3           Faisalabad                 3204726                 2008861   \n",
       "3      4           Rawalpindi                 2098231                 1409768   \n",
       "4      5           Gujranwala                 2027001                 1132509   \n",
       "..   ...                  ...                     ...                     ...   \n",
       "95    96  Tando Muhammad Khan                  101863                   65396   \n",
       "96    97      Kamber Ali Khan                  101474                   58369   \n",
       "97    98       Mirpur Mathelo                  100760                   42421   \n",
       "98    99             Kandhkot                  100698                   67566   \n",
       "99   100              Bhalwal                  100135                   61523   \n",
       "\n",
       "    Change Province  \n",
       "0    59.72    Sindh  \n",
       "1   113.59   Punjab  \n",
       "2    59.53   Punjab  \n",
       "3    48.84   Punjab  \n",
       "4    78.98   Punjab  \n",
       "..     ...      ...  \n",
       "95   55.76    Sindh  \n",
       "96   73.85    Sindh  \n",
       "97  137.52    Sindh  \n",
       "98   49.04    Sindh  \n",
       "99   62.76   Punjab  \n",
       "\n",
       "[100 rows x 6 columns]"
      ]
     },
     "execution_count": 17,
     "metadata": {},
     "output_type": "execute_result"
    }
   ],
   "source": [
    "#converting Change from decimal to percentage for our analysis\n",
    "#formula Change * 100\n",
    "Major_Cities_Population[\"Change\"] = Major_Cities_Population[\"Change\"] * 100\n",
    "Major_Cities_Population"
   ]
  },
  {
   "cell_type": "code",
   "execution_count": 18,
   "id": "7944a191",
   "metadata": {
    "execution": {
     "iopub.execute_input": "2023-03-22T14:26:51.208157Z",
     "iopub.status.busy": "2023-03-22T14:26:51.207508Z",
     "iopub.status.idle": "2023-03-22T14:26:51.559985Z",
     "shell.execute_reply": "2023-03-22T14:26:51.558425Z"
    },
    "papermill": {
     "duration": 0.371344,
     "end_time": "2023-03-22T14:26:51.562796",
     "exception": false,
     "start_time": "2023-03-22T14:26:51.191452",
     "status": "completed"
    },
    "tags": []
   },
   "outputs": [
    {
     "data": {
      "image/png": "[encoded data removed]",
      "text/plain": [
       "<Figure size 1500x600 with 1 Axes>"
      ]
     },
     "metadata": {},
     "output_type": "display_data"
    }
   ],
   "source": [
    "plt.figure(figsize=(15,6))\n",
    "plt.style.use('fivethirtyeight')\n",
    "plt.title(\"Change in Population from 1998 to 2017 in 10 the most Populous Cities\")\n",
    "\n",
    "\n",
    "Plot= sns.barplot(data=Major_Cities_Population.head(10),x=\"City\",y=\"Change\")\n",
    "Plot.set_ylabel(\"% of Change\")\n",
    "Plot\n",
    "plt.show()"
   ]
  },
  {
   "cell_type": "markdown",
   "id": "d6a0db38",
   "metadata": {
    "papermill": {
     "duration": 0.014555,
     "end_time": "2023-03-22T14:26:51.592373",
     "exception": false,
     "start_time": "2023-03-22T14:26:51.577818",
     "status": "completed"
    },
    "tags": []
   },
   "source": [
    "**Insight:**\n",
    "* Lahore's population change more than 100% from 1998. In 1998, it was 5209,088 now in 2017, it is 1112,6285.\n",
    "* Every Major City has very high percent of population change in just 19 years."
   ]
  },
  {
   "cell_type": "code",
   "execution_count": 19,
   "id": "7609fb05",
   "metadata": {
    "execution": {
     "iopub.execute_input": "2023-03-22T14:26:51.625112Z",
     "iopub.status.busy": "2023-03-22T14:26:51.624658Z",
     "iopub.status.idle": "2023-03-22T14:26:51.645541Z",
     "shell.execute_reply": "2023-03-22T14:26:51.644188Z"
    },
    "papermill": {
     "duration": 0.04031,
     "end_time": "2023-03-22T14:26:51.648165",
     "exception": false,
     "start_time": "2023-03-22T14:26:51.607855",
     "status": "completed"
    },
    "tags": []
   },
   "outputs": [
    {
     "data": {
      "text/html": [
       "<div>\n",
       "<style scoped>\n",
       "    .dataframe tbody tr th:only-of-type {\n",
       "        vertical-align: middle;\n",
       "    }\n",
       "\n",
       "    .dataframe tbody tr th {\n",
       "        vertical-align: top;\n",
       "    }\n",
       "\n",
       "    .dataframe thead th {\n",
       "        text-align: right;\n",
       "    }\n",
       "</style>\n",
       "<table border=\"1\" class=\"dataframe\">\n",
       "  <thead>\n",
       "    <tr style=\"text-align: right;\">\n",
       "      <th></th>\n",
       "      <th>Rank</th>\n",
       "      <th>City</th>\n",
       "      <th>Population 2017 Census</th>\n",
       "      <th>Population 1998 Census</th>\n",
       "      <th>Change</th>\n",
       "      <th>Province</th>\n",
       "    </tr>\n",
       "  </thead>\n",
       "  <tbody>\n",
       "    <tr>\n",
       "      <th>29</th>\n",
       "      <td>30</td>\n",
       "      <td>Kotri</td>\n",
       "      <td>259358</td>\n",
       "      <td>62085</td>\n",
       "      <td>317.75</td>\n",
       "      <td>Sindh</td>\n",
       "    </tr>\n",
       "    <tr>\n",
       "      <th>68</th>\n",
       "      <td>69</td>\n",
       "      <td>Umerkot</td>\n",
       "      <td>134052</td>\n",
       "      <td>35559</td>\n",
       "      <td>276.98</td>\n",
       "      <td>Sindh</td>\n",
       "    </tr>\n",
       "    <tr>\n",
       "      <th>38</th>\n",
       "      <td>39</td>\n",
       "      <td>Turbat</td>\n",
       "      <td>213557</td>\n",
       "      <td>68603</td>\n",
       "      <td>211.29</td>\n",
       "      <td>Balochistan</td>\n",
       "    </tr>\n",
       "    <tr>\n",
       "      <th>93</th>\n",
       "      <td>94</td>\n",
       "      <td>Daharki</td>\n",
       "      <td>103557</td>\n",
       "      <td>34615</td>\n",
       "      <td>199.17</td>\n",
       "      <td>Sindh</td>\n",
       "    </tr>\n",
       "    <tr>\n",
       "      <th>55</th>\n",
       "      <td>56</td>\n",
       "      <td>Samundri</td>\n",
       "      <td>156991</td>\n",
       "      <td>54908</td>\n",
       "      <td>185.92</td>\n",
       "      <td>Punjab</td>\n",
       "    </tr>\n",
       "    <tr>\n",
       "      <th>...</th>\n",
       "      <td>...</td>\n",
       "      <td>...</td>\n",
       "      <td>...</td>\n",
       "      <td>...</td>\n",
       "      <td>...</td>\n",
       "      <td>...</td>\n",
       "    </tr>\n",
       "    <tr>\n",
       "      <th>78</th>\n",
       "      <td>79</td>\n",
       "      <td>Nowshera</td>\n",
       "      <td>120131</td>\n",
       "      <td>89813</td>\n",
       "      <td>33.76</td>\n",
       "      <td>Khyber Pakhtunkhwa</td>\n",
       "    </tr>\n",
       "    <tr>\n",
       "      <th>85</th>\n",
       "      <td>86</td>\n",
       "      <td>Charsadda</td>\n",
       "      <td>114565</td>\n",
       "      <td>87218</td>\n",
       "      <td>31.35</td>\n",
       "      <td>Khyber Pakhtunkhwa</td>\n",
       "    </tr>\n",
       "    <tr>\n",
       "      <th>44</th>\n",
       "      <td>45</td>\n",
       "      <td>Jhelum</td>\n",
       "      <td>190425</td>\n",
       "      <td>147392</td>\n",
       "      <td>29.20</td>\n",
       "      <td>Punjab</td>\n",
       "    </tr>\n",
       "    <tr>\n",
       "      <th>33</th>\n",
       "      <td>34</td>\n",
       "      <td>Mirpur Khas</td>\n",
       "      <td>233916</td>\n",
       "      <td>189671</td>\n",
       "      <td>23.33</td>\n",
       "      <td>Sindh</td>\n",
       "    </tr>\n",
       "    <tr>\n",
       "      <th>74</th>\n",
       "      <td>75</td>\n",
       "      <td>Mirpur</td>\n",
       "      <td>124352</td>\n",
       "      <td>115641</td>\n",
       "      <td>7.53</td>\n",
       "      <td>Azad Kashmir</td>\n",
       "    </tr>\n",
       "  </tbody>\n",
       "</table>\n",
       "<p>100 rows × 6 columns</p>\n",
       "</div>"
      ],
      "text/plain": [
       "    Rank         City  Population 2017 Census  Population 1998 Census  Change  \\\n",
       "29    30        Kotri                  259358                   62085  317.75   \n",
       "68    69      Umerkot                  134052                   35559  276.98   \n",
       "38    39       Turbat                  213557                   68603  211.29   \n",
       "93    94      Daharki                  103557                   34615  199.17   \n",
       "55    56     Samundri                  156991                   54908  185.92   \n",
       "..   ...          ...                     ...                     ...     ...   \n",
       "78    79     Nowshera                  120131                   89813   33.76   \n",
       "85    86    Charsadda                  114565                   87218   31.35   \n",
       "44    45       Jhelum                  190425                  147392   29.20   \n",
       "33    34  Mirpur Khas                  233916                  189671   23.33   \n",
       "74    75       Mirpur                  124352                  115641    7.53   \n",
       "\n",
       "              Province  \n",
       "29               Sindh  \n",
       "68               Sindh  \n",
       "38         Balochistan  \n",
       "93               Sindh  \n",
       "55              Punjab  \n",
       "..                 ...  \n",
       "78  Khyber Pakhtunkhwa  \n",
       "85  Khyber Pakhtunkhwa  \n",
       "44              Punjab  \n",
       "33               Sindh  \n",
       "74        Azad Kashmir  \n",
       "\n",
       "[100 rows x 6 columns]"
      ]
     },
     "execution_count": 19,
     "metadata": {},
     "output_type": "execute_result"
    }
   ],
   "source": [
    "Highest_By_Change = Major_Cities_Population.sort_values(by=['Change'], ascending=False)\n",
    "Highest_By_Change"
   ]
  },
  {
   "cell_type": "code",
   "execution_count": 20,
   "id": "0e016fb4",
   "metadata": {
    "execution": {
     "iopub.execute_input": "2023-03-22T14:26:51.681146Z",
     "iopub.status.busy": "2023-03-22T14:26:51.680716Z",
     "iopub.status.idle": "2023-03-22T14:26:52.041967Z",
     "shell.execute_reply": "2023-03-22T14:26:52.040385Z"
    },
    "papermill": {
     "duration": 0.381378,
     "end_time": "2023-03-22T14:26:52.045064",
     "exception": false,
     "start_time": "2023-03-22T14:26:51.663686",
     "status": "completed"
    },
    "tags": []
   },
   "outputs": [
    {
     "data": {
      "image/png": "[encoded data removed]",
      "text/plain": [
       "<Figure size 1500x600 with 1 Axes>"
      ]
     },
     "metadata": {},
     "output_type": "display_data"
    }
   ],
   "source": [
    "plt.figure(figsize=(15,6))\n",
    "plt.style.use('fivethirtyeight')\n",
    "plt.title(\"Most Highest change in population by cities from 1998 to 2017\")\n",
    "\n",
    "\n",
    "Plot= sns.barplot(data=Highest_By_Change.head(10),x=\"City\",y=\"Change\")\n",
    "Plot.set_ylabel(\"% of Change\")\n",
    "Plot\n",
    "plt.show()"
   ]
  },
  {
   "cell_type": "markdown",
   "id": "0d30421b",
   "metadata": {
    "papermill": {
     "duration": 0.016002,
     "end_time": "2023-03-22T14:26:52.077694",
     "exception": false,
     "start_time": "2023-03-22T14:26:52.061692",
     "status": "completed"
    },
    "tags": []
   },
   "source": [
    "**Insight:**\n",
    "* These cities' population growth is very enormous from 1998 to 2017.\n",
    "* Maybe it is because people can't purchase property in urban cities which is why people are located in these cities due to the affordable property rate.\n"
   ]
  },
  {
   "cell_type": "markdown",
   "id": "d8204346",
   "metadata": {
    "papermill": {
     "duration": 0.016094,
     "end_time": "2023-03-22T14:26:52.110153",
     "exception": false,
     "start_time": "2023-03-22T14:26:52.094059",
     "status": "completed"
    },
    "tags": []
   },
   "source": [
    "# **Conclusion of our analysis.**\n",
    "* Despite being a small country in terms of land. The growth of Pakistan's population is very enormous it was in 7th place in 1998 now in 2017 it is ranked 5th.\n",
    "* The highest populated city is Karachi.\n",
    "* Lahore is the 2nd highest populated city.\n",
    "* The province of Punjab has the most populated cities.\n",
    "* The population Growth rate in small cities is much higher than in urban areas.\n"
   ]
  },
  {
   "cell_type": "code",
   "execution_count": null,
   "id": "53aec28e",
   "metadata": {
    "papermill": {
     "duration": 0.016416,
     "end_time": "2023-03-22T14:26:52.142540",
     "exception": false,
     "start_time": "2023-03-22T14:26:52.126124",
     "status": "completed"
    },
    "tags": []
   },
   "outputs": [],
   "source": []
  }
 ],
 "metadata": {
  "kernelspec": {
   "display_name": "Python 3",
   "language": "python",
   "name": "python3"
  },
  "language_info": {
   "codemirror_mode": {
    "name": "ipython",
    "version": 3
   },
   "file_extension": ".py",
   "mimetype": "text/x-python",
   "name": "python",
   "nbconvert_exporter": "python",
   "pygments_lexer": "ipython3",
   "version": "3.7.12"
  },
  "papermill": {
   "default_parameters": {},
   "duration": 16.06304,
   "end_time": "2023-03-22T14:26:52.983560",
   "environment_variables": {},
   "exception": null,
   "input_path": "__notebook__.ipynb",
   "output_path": "__notebook__.ipynb",
   "parameters": {},
   "start_time": "2023-03-22T14:26:36.920520",
   "version": "2.4.0"
  }
 },
 "nbformat": 4,
 "nbformat_minor": 5
}
