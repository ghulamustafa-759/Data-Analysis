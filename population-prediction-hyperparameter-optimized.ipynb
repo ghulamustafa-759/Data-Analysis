{
 "cells": [
  {
   "cell_type": "code",
   "execution_count": 1,
   "id": "da0ed9fb",
   "metadata": {
    "execution": {
     "iopub.execute_input": "2024-06-12T16:34:16.466403Z",
     "iopub.status.busy": "2024-06-12T16:34:16.465920Z",
     "iopub.status.idle": "2024-06-12T16:34:19.912120Z",
     "shell.execute_reply": "2024-06-12T16:34:19.910561Z"
    },
    "papermill": {
     "duration": 3.463274,
     "end_time": "2024-06-12T16:34:19.915471",
     "exception": false,
     "start_time": "2024-06-12T16:34:16.452197",
     "status": "completed"
    },
    "tags": []
   },
   "outputs": [],
   "source": [
    "import pandas as pd\n",
    "import numpy as np\n",
    "import matplotlib.pyplot as plt\n",
    "import seaborn as sns\n",
    "from sklearn.model_selection import train_test_split\n",
    "from sklearn.preprocessing import StandardScaler, LabelEncoder\n",
    "from sklearn.ensemble import RandomForestRegressor\n",
    "from sklearn.metrics import mean_absolute_error, mean_squared_error, r2_score\n"
   ]
  },
  {
   "cell_type": "code",
   "execution_count": 2,
   "id": "ad50981c",
   "metadata": {
    "execution": {
     "iopub.execute_input": "2024-06-12T16:34:19.942047Z",
     "iopub.status.busy": "2024-06-12T16:34:19.941065Z",
     "iopub.status.idle": "2024-06-12T16:34:19.974752Z",
     "shell.execute_reply": "2024-06-12T16:34:19.973296Z"
    },
    "papermill": {
     "duration": 0.051596,
     "end_time": "2024-06-12T16:34:19.978384",
     "exception": false,
     "start_time": "2024-06-12T16:34:19.926788",
     "status": "completed"
    },
    "tags": []
   },
   "outputs": [],
   "source": [
    "\n",
    "data = '/kaggle/input/2024-population-projections-by-country/2024Populations.csv'\n",
    "\n",
    "df = pd.read_csv(filepath_or_buffer=data)\n"
   ]
  },
  {
   "cell_type": "markdown",
   "id": "fad62784",
   "metadata": {
    "papermill": {
     "duration": 0.011387,
     "end_time": "2024-06-12T16:34:20.001597",
     "exception": false,
     "start_time": "2024-06-12T16:34:19.990210",
     "status": "completed"
    },
    "tags": []
   },
   "source": [
    "# Exploratory Data Analysis"
   ]
  },
  {
   "cell_type": "code",
   "execution_count": 3,
   "id": "852f8575",
   "metadata": {
    "execution": {
     "iopub.execute_input": "2024-06-12T16:34:20.026684Z",
     "iopub.status.busy": "2024-06-12T16:34:20.026235Z",
     "iopub.status.idle": "2024-06-12T16:34:20.062448Z",
     "shell.execute_reply": "2024-06-12T16:34:20.061123Z"
    },
    "papermill": {
     "duration": 0.052277,
     "end_time": "2024-06-12T16:34:20.065625",
     "exception": false,
     "start_time": "2024-06-12T16:34:20.013348",
     "status": "completed"
    },
    "tags": []
   },
   "outputs": [
    {
     "data": {
      "text/html": [
       "<div>\n",
       "<style scoped>\n",
       "    .dataframe tbody tr th:only-of-type {\n",
       "        vertical-align: middle;\n",
       "    }\n",
       "\n",
       "    .dataframe tbody tr th {\n",
       "        vertical-align: top;\n",
       "    }\n",
       "\n",
       "    .dataframe thead th {\n",
       "        text-align: right;\n",
       "    }\n",
       "</style>\n",
       "<table border=\"1\" class=\"dataframe\">\n",
       "  <thead>\n",
       "    <tr style=\"text-align: right;\">\n",
       "      <th></th>\n",
       "      <th>rank</th>\n",
       "      <th>country</th>\n",
       "      <th>TwoLetterID</th>\n",
       "      <th>unMember</th>\n",
       "      <th>pop1980</th>\n",
       "      <th>pop2000</th>\n",
       "      <th>pop2010</th>\n",
       "      <th>pop2023</th>\n",
       "      <th>pop2024</th>\n",
       "      <th>pop2030</th>\n",
       "      <th>pop2050</th>\n",
       "      <th>landAreaKm</th>\n",
       "      <th>2024YoYChange</th>\n",
       "      <th>2024YoYGrowthRate</th>\n",
       "      <th>2024WorldPercentage</th>\n",
       "      <th>Density_2024</th>\n",
       "    </tr>\n",
       "  </thead>\n",
       "  <tbody>\n",
       "    <tr>\n",
       "      <th>0</th>\n",
       "      <td>1</td>\n",
       "      <td>India</td>\n",
       "      <td>IN</td>\n",
       "      <td>True</td>\n",
       "      <td>696828385</td>\n",
       "      <td>1059633675</td>\n",
       "      <td>1240613620</td>\n",
       "      <td>1428627663</td>\n",
       "      <td>1441719852</td>\n",
       "      <td>1514994080</td>\n",
       "      <td>1670490596</td>\n",
       "      <td>2973190.0</td>\n",
       "      <td>13092189</td>\n",
       "      <td>0.009164</td>\n",
       "      <td>0.177614</td>\n",
       "      <td>484.906734</td>\n",
       "    </tr>\n",
       "    <tr>\n",
       "      <th>1</th>\n",
       "      <td>2</td>\n",
       "      <td>China</td>\n",
       "      <td>CN</td>\n",
       "      <td>True</td>\n",
       "      <td>982372466</td>\n",
       "      <td>1264099069</td>\n",
       "      <td>1348191368</td>\n",
       "      <td>1425671352</td>\n",
       "      <td>1425178782</td>\n",
       "      <td>1415605906</td>\n",
       "      <td>1312636325</td>\n",
       "      <td>9424702.9</td>\n",
       "      <td>-492570</td>\n",
       "      <td>-0.000346</td>\n",
       "      <td>0.175577</td>\n",
       "      <td>151.217370</td>\n",
       "    </tr>\n",
       "    <tr>\n",
       "      <th>2</th>\n",
       "      <td>3</td>\n",
       "      <td>United States</td>\n",
       "      <td>US</td>\n",
       "      <td>True</td>\n",
       "      <td>223140018</td>\n",
       "      <td>282398554</td>\n",
       "      <td>311182845</td>\n",
       "      <td>339996563</td>\n",
       "      <td>341814420</td>\n",
       "      <td>352162301</td>\n",
       "      <td>375391963</td>\n",
       "      <td>9147420.0</td>\n",
       "      <td>1817857</td>\n",
       "      <td>0.005347</td>\n",
       "      <td>0.042110</td>\n",
       "      <td>37.367304</td>\n",
       "    </tr>\n",
       "    <tr>\n",
       "      <th>3</th>\n",
       "      <td>4</td>\n",
       "      <td>Indonesia</td>\n",
       "      <td>ID</td>\n",
       "      <td>True</td>\n",
       "      <td>148177096</td>\n",
       "      <td>214072421</td>\n",
       "      <td>244016173</td>\n",
       "      <td>277534122</td>\n",
       "      <td>279798049</td>\n",
       "      <td>292150100</td>\n",
       "      <td>317225213</td>\n",
       "      <td>1877519.0</td>\n",
       "      <td>2263927</td>\n",
       "      <td>0.008157</td>\n",
       "      <td>0.034470</td>\n",
       "      <td>149.025416</td>\n",
       "    </tr>\n",
       "    <tr>\n",
       "      <th>4</th>\n",
       "      <td>5</td>\n",
       "      <td>Pakistan</td>\n",
       "      <td>PK</td>\n",
       "      <td>True</td>\n",
       "      <td>80624057</td>\n",
       "      <td>154369924</td>\n",
       "      <td>194454498</td>\n",
       "      <td>240485658</td>\n",
       "      <td>245209815</td>\n",
       "      <td>274029836</td>\n",
       "      <td>367808468</td>\n",
       "      <td>770880.0</td>\n",
       "      <td>4724157</td>\n",
       "      <td>0.019644</td>\n",
       "      <td>0.030209</td>\n",
       "      <td>318.090773</td>\n",
       "    </tr>\n",
       "  </tbody>\n",
       "</table>\n",
       "</div>"
      ],
      "text/plain": [
       "   rank        country TwoLetterID  unMember    pop1980     pop2000  \\\n",
       "0     1          India          IN      True  696828385  1059633675   \n",
       "1     2          China          CN      True  982372466  1264099069   \n",
       "2     3  United States          US      True  223140018   282398554   \n",
       "3     4      Indonesia          ID      True  148177096   214072421   \n",
       "4     5       Pakistan          PK      True   80624057   154369924   \n",
       "\n",
       "      pop2010     pop2023     pop2024     pop2030     pop2050  landAreaKm  \\\n",
       "0  1240613620  1428627663  1441719852  1514994080  1670490596   2973190.0   \n",
       "1  1348191368  1425671352  1425178782  1415605906  1312636325   9424702.9   \n",
       "2   311182845   339996563   341814420   352162301   375391963   9147420.0   \n",
       "3   244016173   277534122   279798049   292150100   317225213   1877519.0   \n",
       "4   194454498   240485658   245209815   274029836   367808468    770880.0   \n",
       "\n",
       "   2024YoYChange  2024YoYGrowthRate  2024WorldPercentage  Density_2024  \n",
       "0       13092189           0.009164             0.177614    484.906734  \n",
       "1        -492570          -0.000346             0.175577    151.217370  \n",
       "2        1817857           0.005347             0.042110     37.367304  \n",
       "3        2263927           0.008157             0.034470    149.025416  \n",
       "4        4724157           0.019644             0.030209    318.090773  "
      ]
     },
     "execution_count": 3,
     "metadata": {},
     "output_type": "execute_result"
    }
   ],
   "source": [
    "df.head(5)"
   ]
  },
  {
   "cell_type": "code",
   "execution_count": 4,
   "id": "94b6b53e",
   "metadata": {
    "execution": {
     "iopub.execute_input": "2024-06-12T16:34:20.094316Z",
     "iopub.status.busy": "2024-06-12T16:34:20.093805Z",
     "iopub.status.idle": "2024-06-12T16:34:20.126613Z",
     "shell.execute_reply": "2024-06-12T16:34:20.125019Z"
    },
    "papermill": {
     "duration": 0.050073,
     "end_time": "2024-06-12T16:34:20.130034",
     "exception": false,
     "start_time": "2024-06-12T16:34:20.079961",
     "status": "completed"
    },
    "tags": []
   },
   "outputs": [
    {
     "name": "stdout",
     "output_type": "stream",
     "text": [
      "<class 'pandas.core.frame.DataFrame'>\n",
      "RangeIndex: 234 entries, 0 to 233\n",
      "Data columns (total 16 columns):\n",
      " #   Column               Non-Null Count  Dtype  \n",
      "---  ------               --------------  -----  \n",
      " 0   rank                 234 non-null    int64  \n",
      " 1   country              234 non-null    object \n",
      " 2   TwoLetterID          233 non-null    object \n",
      " 3   unMember             234 non-null    bool   \n",
      " 4   pop1980              234 non-null    int64  \n",
      " 5   pop2000              234 non-null    int64  \n",
      " 6   pop2010              234 non-null    int64  \n",
      " 7   pop2023              234 non-null    int64  \n",
      " 8   pop2024              234 non-null    int64  \n",
      " 9   pop2030              234 non-null    int64  \n",
      " 10  pop2050              234 non-null    int64  \n",
      " 11  landAreaKm           234 non-null    float64\n",
      " 12  2024YoYChange        234 non-null    int64  \n",
      " 13  2024YoYGrowthRate    234 non-null    float64\n",
      " 14  2024WorldPercentage  234 non-null    float64\n",
      " 15  Density_2024         234 non-null    float64\n",
      "dtypes: bool(1), float64(4), int64(9), object(2)\n",
      "memory usage: 27.8+ KB\n"
     ]
    }
   ],
   "source": [
    "df.info()"
   ]
  },
  {
   "cell_type": "code",
   "execution_count": 5,
   "id": "00a28b8d",
   "metadata": {
    "execution": {
     "iopub.execute_input": "2024-06-12T16:34:20.155003Z",
     "iopub.status.busy": "2024-06-12T16:34:20.154537Z",
     "iopub.status.idle": "2024-06-12T16:34:20.213484Z",
     "shell.execute_reply": "2024-06-12T16:34:20.212215Z"
    },
    "papermill": {
     "duration": 0.074535,
     "end_time": "2024-06-12T16:34:20.216015",
     "exception": false,
     "start_time": "2024-06-12T16:34:20.141480",
     "status": "completed"
    },
    "tags": []
   },
   "outputs": [
    {
     "data": {
      "text/html": [
       "<div>\n",
       "<style scoped>\n",
       "    .dataframe tbody tr th:only-of-type {\n",
       "        vertical-align: middle;\n",
       "    }\n",
       "\n",
       "    .dataframe tbody tr th {\n",
       "        vertical-align: top;\n",
       "    }\n",
       "\n",
       "    .dataframe thead th {\n",
       "        text-align: right;\n",
       "    }\n",
       "</style>\n",
       "<table border=\"1\" class=\"dataframe\">\n",
       "  <thead>\n",
       "    <tr style=\"text-align: right;\">\n",
       "      <th></th>\n",
       "      <th>rank</th>\n",
       "      <th>pop1980</th>\n",
       "      <th>pop2000</th>\n",
       "      <th>pop2010</th>\n",
       "      <th>pop2023</th>\n",
       "      <th>pop2024</th>\n",
       "      <th>pop2030</th>\n",
       "      <th>pop2050</th>\n",
       "      <th>landAreaKm</th>\n",
       "      <th>2024YoYChange</th>\n",
       "      <th>2024YoYGrowthRate</th>\n",
       "      <th>2024WorldPercentage</th>\n",
       "      <th>Density_2024</th>\n",
       "    </tr>\n",
       "  </thead>\n",
       "  <tbody>\n",
       "    <tr>\n",
       "      <th>count</th>\n",
       "      <td>234.000000</td>\n",
       "      <td>2.340000e+02</td>\n",
       "      <td>2.340000e+02</td>\n",
       "      <td>2.340000e+02</td>\n",
       "      <td>2.340000e+02</td>\n",
       "      <td>2.340000e+02</td>\n",
       "      <td>2.340000e+02</td>\n",
       "      <td>2.340000e+02</td>\n",
       "      <td>2.340000e+02</td>\n",
       "      <td>2.340000e+02</td>\n",
       "      <td>234.000000</td>\n",
       "      <td>2.340000e+02</td>\n",
       "      <td>234.000000</td>\n",
       "    </tr>\n",
       "    <tr>\n",
       "      <th>mean</th>\n",
       "      <td>117.500000</td>\n",
       "      <td>1.898462e+07</td>\n",
       "      <td>2.626947e+07</td>\n",
       "      <td>2.984524e+07</td>\n",
       "      <td>3.437443e+07</td>\n",
       "      <td>3.468862e+07</td>\n",
       "      <td>3.651461e+07</td>\n",
       "      <td>4.148628e+07</td>\n",
       "      <td>5.571123e+05</td>\n",
       "      <td>3.141905e+05</td>\n",
       "      <td>0.009135</td>\n",
       "      <td>4.273504e-03</td>\n",
       "      <td>456.125781</td>\n",
       "    </tr>\n",
       "    <tr>\n",
       "      <th>std</th>\n",
       "      <td>67.694165</td>\n",
       "      <td>8.178519e+07</td>\n",
       "      <td>1.116982e+08</td>\n",
       "      <td>1.242185e+08</td>\n",
       "      <td>1.373864e+08</td>\n",
       "      <td>1.380750e+08</td>\n",
       "      <td>1.417827e+08</td>\n",
       "      <td>1.481676e+08</td>\n",
       "      <td>1.689972e+06</td>\n",
       "      <td>1.075131e+06</td>\n",
       "      <td>0.011379</td>\n",
       "      <td>1.701031e-02</td>\n",
       "      <td>1991.330932</td>\n",
       "    </tr>\n",
       "    <tr>\n",
       "      <th>min</th>\n",
       "      <td>1.000000</td>\n",
       "      <td>7.330000e+02</td>\n",
       "      <td>6.510000e+02</td>\n",
       "      <td>5.960000e+02</td>\n",
       "      <td>7.640000e+02</td>\n",
       "      <td>7.640000e+02</td>\n",
       "      <td>7.640000e+02</td>\n",
       "      <td>7.640000e+02</td>\n",
       "      <td>4.400000e-01</td>\n",
       "      <td>-8.043410e+05</td>\n",
       "      <td>-0.030870</td>\n",
       "      <td>9.412187e-08</td>\n",
       "      <td>0.138358</td>\n",
       "    </tr>\n",
       "    <tr>\n",
       "      <th>25%</th>\n",
       "      <td>59.250000</td>\n",
       "      <td>2.296142e+05</td>\n",
       "      <td>3.272420e+05</td>\n",
       "      <td>3.931490e+05</td>\n",
       "      <td>4.225982e+05</td>\n",
       "      <td>4.264565e+05</td>\n",
       "      <td>4.561490e+05</td>\n",
       "      <td>5.466058e+05</td>\n",
       "      <td>2.625875e+03</td>\n",
       "      <td>1.975000e+02</td>\n",
       "      <td>0.001928</td>\n",
       "      <td>5.253780e-05</td>\n",
       "      <td>39.801183</td>\n",
       "    </tr>\n",
       "    <tr>\n",
       "      <th>50%</th>\n",
       "      <td>117.500000</td>\n",
       "      <td>3.141146e+06</td>\n",
       "      <td>4.292907e+06</td>\n",
       "      <td>4.942770e+06</td>\n",
       "      <td>5.643895e+06</td>\n",
       "      <td>5.626359e+06</td>\n",
       "      <td>6.178231e+06</td>\n",
       "      <td>6.352397e+06</td>\n",
       "      <td>7.568925e+04</td>\n",
       "      <td>1.997850e+04</td>\n",
       "      <td>0.007786</td>\n",
       "      <td>6.931458e-04</td>\n",
       "      <td>98.287400</td>\n",
       "    </tr>\n",
       "    <tr>\n",
       "      <th>75%</th>\n",
       "      <td>175.750000</td>\n",
       "      <td>9.826054e+06</td>\n",
       "      <td>1.576230e+07</td>\n",
       "      <td>1.915957e+07</td>\n",
       "      <td>2.324537e+07</td>\n",
       "      <td>2.392272e+07</td>\n",
       "      <td>2.616311e+07</td>\n",
       "      <td>3.568614e+07</td>\n",
       "      <td>4.047876e+05</td>\n",
       "      <td>2.238608e+05</td>\n",
       "      <td>0.015670</td>\n",
       "      <td>2.947187e-03</td>\n",
       "      <td>248.223177</td>\n",
       "    </tr>\n",
       "    <tr>\n",
       "      <th>max</th>\n",
       "      <td>234.000000</td>\n",
       "      <td>9.823725e+08</td>\n",
       "      <td>1.264099e+09</td>\n",
       "      <td>1.348191e+09</td>\n",
       "      <td>1.428628e+09</td>\n",
       "      <td>1.441720e+09</td>\n",
       "      <td>1.514994e+09</td>\n",
       "      <td>1.670491e+09</td>\n",
       "      <td>1.637687e+07</td>\n",
       "      <td>1.309219e+07</td>\n",
       "      <td>0.048264</td>\n",
       "      <td>1.776143e-01</td>\n",
       "      <td>21674.224920</td>\n",
       "    </tr>\n",
       "  </tbody>\n",
       "</table>\n",
       "</div>"
      ],
      "text/plain": [
       "             rank       pop1980       pop2000       pop2010       pop2023  \\\n",
       "count  234.000000  2.340000e+02  2.340000e+02  2.340000e+02  2.340000e+02   \n",
       "mean   117.500000  1.898462e+07  2.626947e+07  2.984524e+07  3.437443e+07   \n",
       "std     67.694165  8.178519e+07  1.116982e+08  1.242185e+08  1.373864e+08   \n",
       "min      1.000000  7.330000e+02  6.510000e+02  5.960000e+02  7.640000e+02   \n",
       "25%     59.250000  2.296142e+05  3.272420e+05  3.931490e+05  4.225982e+05   \n",
       "50%    117.500000  3.141146e+06  4.292907e+06  4.942770e+06  5.643895e+06   \n",
       "75%    175.750000  9.826054e+06  1.576230e+07  1.915957e+07  2.324537e+07   \n",
       "max    234.000000  9.823725e+08  1.264099e+09  1.348191e+09  1.428628e+09   \n",
       "\n",
       "            pop2024       pop2030       pop2050    landAreaKm  2024YoYChange  \\\n",
       "count  2.340000e+02  2.340000e+02  2.340000e+02  2.340000e+02   2.340000e+02   \n",
       "mean   3.468862e+07  3.651461e+07  4.148628e+07  5.571123e+05   3.141905e+05   \n",
       "std    1.380750e+08  1.417827e+08  1.481676e+08  1.689972e+06   1.075131e+06   \n",
       "min    7.640000e+02  7.640000e+02  7.640000e+02  4.400000e-01  -8.043410e+05   \n",
       "25%    4.264565e+05  4.561490e+05  5.466058e+05  2.625875e+03   1.975000e+02   \n",
       "50%    5.626359e+06  6.178231e+06  6.352397e+06  7.568925e+04   1.997850e+04   \n",
       "75%    2.392272e+07  2.616311e+07  3.568614e+07  4.047876e+05   2.238608e+05   \n",
       "max    1.441720e+09  1.514994e+09  1.670491e+09  1.637687e+07   1.309219e+07   \n",
       "\n",
       "       2024YoYGrowthRate  2024WorldPercentage  Density_2024  \n",
       "count         234.000000         2.340000e+02    234.000000  \n",
       "mean            0.009135         4.273504e-03    456.125781  \n",
       "std             0.011379         1.701031e-02   1991.330932  \n",
       "min            -0.030870         9.412187e-08      0.138358  \n",
       "25%             0.001928         5.253780e-05     39.801183  \n",
       "50%             0.007786         6.931458e-04     98.287400  \n",
       "75%             0.015670         2.947187e-03    248.223177  \n",
       "max             0.048264         1.776143e-01  21674.224920  "
      ]
     },
     "execution_count": 5,
     "metadata": {},
     "output_type": "execute_result"
    }
   ],
   "source": [
    "df.describe()"
   ]
  },
  {
   "cell_type": "code",
   "execution_count": 6,
   "id": "fe65c0b5",
   "metadata": {
    "execution": {
     "iopub.execute_input": "2024-06-12T16:34:20.242163Z",
     "iopub.status.busy": "2024-06-12T16:34:20.240758Z",
     "iopub.status.idle": "2024-06-12T16:34:20.252168Z",
     "shell.execute_reply": "2024-06-12T16:34:20.250641Z"
    },
    "papermill": {
     "duration": 0.027664,
     "end_time": "2024-06-12T16:34:20.255154",
     "exception": false,
     "start_time": "2024-06-12T16:34:20.227490",
     "status": "completed"
    },
    "tags": []
   },
   "outputs": [
    {
     "data": {
      "text/plain": [
       "rank                   0\n",
       "country                0\n",
       "TwoLetterID            1\n",
       "unMember               0\n",
       "pop1980                0\n",
       "pop2000                0\n",
       "pop2010                0\n",
       "pop2023                0\n",
       "pop2024                0\n",
       "pop2030                0\n",
       "pop2050                0\n",
       "landAreaKm             0\n",
       "2024YoYChange          0\n",
       "2024YoYGrowthRate      0\n",
       "2024WorldPercentage    0\n",
       "Density_2024           0\n",
       "dtype: int64"
      ]
     },
     "execution_count": 6,
     "metadata": {},
     "output_type": "execute_result"
    }
   ],
   "source": [
    "df.isnull().sum()"
   ]
  },
  {
   "cell_type": "code",
   "execution_count": 7,
   "id": "94d2f0d0",
   "metadata": {
    "execution": {
     "iopub.execute_input": "2024-06-12T16:34:20.282130Z",
     "iopub.status.busy": "2024-06-12T16:34:20.280814Z",
     "iopub.status.idle": "2024-06-12T16:34:20.812709Z",
     "shell.execute_reply": "2024-06-12T16:34:20.811456Z"
    },
    "papermill": {
     "duration": 0.547992,
     "end_time": "2024-06-12T16:34:20.815240",
     "exception": false,
     "start_time": "2024-06-12T16:34:20.267248",
     "status": "completed"
    },
    "tags": []
   },
   "outputs": [
    {
     "name": "stderr",
     "output_type": "stream",
     "text": [
      "/opt/conda/lib/python3.10/site-packages/seaborn/_oldcore.py:1119: FutureWarning: use_inf_as_na option is deprecated and will be removed in a future version. Convert inf values to NaN before operating instead.\n",
      "  with pd.option_context('mode.use_inf_as_na', True):\n"
     ]
    },
    {
     "data": {
      "image/png": "[encoded data removed]",
      "text/plain": [
       "<Figure size 1000x600 with 1 Axes>"
      ]
     },
     "metadata": {},
     "output_type": "display_data"
    }
   ],
   "source": [
    "#data visualization\n",
    "plt.figure(figsize=(10, 6))\n",
    "sns.histplot(df['pop2024'], bins=50, kde=True)\n",
    "plt.title('Population Distribution in 2024')\n",
    "plt.xlabel('Population')\n",
    "plt.ylabel('Frequency')\n",
    "plt.show()"
   ]
  },
  {
   "cell_type": "code",
   "execution_count": 8,
   "id": "616ad8bf",
   "metadata": {
    "execution": {
     "iopub.execute_input": "2024-06-12T16:34:20.841826Z",
     "iopub.status.busy": "2024-06-12T16:34:20.841340Z",
     "iopub.status.idle": "2024-06-12T16:34:21.806435Z",
     "shell.execute_reply": "2024-06-12T16:34:21.804947Z"
    },
    "papermill": {
     "duration": 0.982577,
     "end_time": "2024-06-12T16:34:21.810058",
     "exception": false,
     "start_time": "2024-06-12T16:34:20.827481",
     "status": "completed"
    },
    "tags": []
   },
   "outputs": [
    {
     "data": {
      "image/png": "[encoded data removed]",
      "text/plain": [
       "<Figure size 1200x800 with 2 Axes>"
      ]
     },
     "metadata": {},
     "output_type": "display_data"
    }
   ],
   "source": [
    "numeric_df = df.select_dtypes(include=[np.number])\n",
    "plt.figure(figsize=(12, 8))\n",
    "sns.heatmap(numeric_df.corr(), annot=True, cmap='coolwarm')\n",
    "plt.title('Correlation Matrix')\n",
    "plt.show()"
   ]
  },
  {
   "cell_type": "markdown",
   "id": "d53ffc02",
   "metadata": {
    "papermill": {
     "duration": 0.014518,
     "end_time": "2024-06-12T16:34:21.839214",
     "exception": false,
     "start_time": "2024-06-12T16:34:21.824696",
     "status": "completed"
    },
    "tags": []
   },
   "source": [
    "# Data preprocessing"
   ]
  },
  {
   "cell_type": "code",
   "execution_count": 9,
   "id": "9e4991e4",
   "metadata": {
    "execution": {
     "iopub.execute_input": "2024-06-12T16:34:21.871338Z",
     "iopub.status.busy": "2024-06-12T16:34:21.870823Z",
     "iopub.status.idle": "2024-06-12T16:34:21.878532Z",
     "shell.execute_reply": "2024-06-12T16:34:21.877072Z"
    },
    "papermill": {
     "duration": 0.027139,
     "end_time": "2024-06-12T16:34:21.881627",
     "exception": false,
     "start_time": "2024-06-12T16:34:21.854488",
     "status": "completed"
    },
    "tags": []
   },
   "outputs": [],
   "source": [
    "le = LabelEncoder()\n",
    "df['unMember'] = le.fit_transform(df['unMember'])\n"
   ]
  },
  {
   "cell_type": "code",
   "execution_count": 10,
   "id": "e6ed9749",
   "metadata": {
    "execution": {
     "iopub.execute_input": "2024-06-12T16:34:21.916675Z",
     "iopub.status.busy": "2024-06-12T16:34:21.916199Z",
     "iopub.status.idle": "2024-06-12T16:34:21.943105Z",
     "shell.execute_reply": "2024-06-12T16:34:21.941748Z"
    },
    "papermill": {
     "duration": 0.047583,
     "end_time": "2024-06-12T16:34:21.945716",
     "exception": false,
     "start_time": "2024-06-12T16:34:21.898133",
     "status": "completed"
    },
    "tags": []
   },
   "outputs": [
    {
     "data": {
      "text/html": [
       "<div>\n",
       "<style scoped>\n",
       "    .dataframe tbody tr th:only-of-type {\n",
       "        vertical-align: middle;\n",
       "    }\n",
       "\n",
       "    .dataframe tbody tr th {\n",
       "        vertical-align: top;\n",
       "    }\n",
       "\n",
       "    .dataframe thead th {\n",
       "        text-align: right;\n",
       "    }\n",
       "</style>\n",
       "<table border=\"1\" class=\"dataframe\">\n",
       "  <thead>\n",
       "    <tr style=\"text-align: right;\">\n",
       "      <th></th>\n",
       "      <th>rank</th>\n",
       "      <th>country</th>\n",
       "      <th>TwoLetterID</th>\n",
       "      <th>unMember</th>\n",
       "      <th>pop1980</th>\n",
       "      <th>pop2000</th>\n",
       "      <th>pop2010</th>\n",
       "      <th>pop2023</th>\n",
       "      <th>pop2024</th>\n",
       "      <th>pop2030</th>\n",
       "      <th>pop2050</th>\n",
       "      <th>landAreaKm</th>\n",
       "      <th>2024YoYChange</th>\n",
       "      <th>2024YoYGrowthRate</th>\n",
       "      <th>2024WorldPercentage</th>\n",
       "      <th>Density_2024</th>\n",
       "    </tr>\n",
       "  </thead>\n",
       "  <tbody>\n",
       "    <tr>\n",
       "      <th>0</th>\n",
       "      <td>1</td>\n",
       "      <td>India</td>\n",
       "      <td>IN</td>\n",
       "      <td>1</td>\n",
       "      <td>696828385</td>\n",
       "      <td>1059633675</td>\n",
       "      <td>1240613620</td>\n",
       "      <td>1428627663</td>\n",
       "      <td>1441719852</td>\n",
       "      <td>1514994080</td>\n",
       "      <td>1670490596</td>\n",
       "      <td>2973190.00</td>\n",
       "      <td>13092189</td>\n",
       "      <td>0.009164</td>\n",
       "      <td>1.776143e-01</td>\n",
       "      <td>484.906734</td>\n",
       "    </tr>\n",
       "    <tr>\n",
       "      <th>1</th>\n",
       "      <td>2</td>\n",
       "      <td>China</td>\n",
       "      <td>CN</td>\n",
       "      <td>1</td>\n",
       "      <td>982372466</td>\n",
       "      <td>1264099069</td>\n",
       "      <td>1348191368</td>\n",
       "      <td>1425671352</td>\n",
       "      <td>1425178782</td>\n",
       "      <td>1415605906</td>\n",
       "      <td>1312636325</td>\n",
       "      <td>9424702.90</td>\n",
       "      <td>-492570</td>\n",
       "      <td>-0.000346</td>\n",
       "      <td>1.755766e-01</td>\n",
       "      <td>151.217370</td>\n",
       "    </tr>\n",
       "    <tr>\n",
       "      <th>2</th>\n",
       "      <td>3</td>\n",
       "      <td>United States</td>\n",
       "      <td>US</td>\n",
       "      <td>1</td>\n",
       "      <td>223140018</td>\n",
       "      <td>282398554</td>\n",
       "      <td>311182845</td>\n",
       "      <td>339996563</td>\n",
       "      <td>341814420</td>\n",
       "      <td>352162301</td>\n",
       "      <td>375391963</td>\n",
       "      <td>9147420.00</td>\n",
       "      <td>1817857</td>\n",
       "      <td>0.005347</td>\n",
       "      <td>4.211022e-02</td>\n",
       "      <td>37.367304</td>\n",
       "    </tr>\n",
       "    <tr>\n",
       "      <th>3</th>\n",
       "      <td>4</td>\n",
       "      <td>Indonesia</td>\n",
       "      <td>ID</td>\n",
       "      <td>1</td>\n",
       "      <td>148177096</td>\n",
       "      <td>214072421</td>\n",
       "      <td>244016173</td>\n",
       "      <td>277534122</td>\n",
       "      <td>279798049</td>\n",
       "      <td>292150100</td>\n",
       "      <td>317225213</td>\n",
       "      <td>1877519.00</td>\n",
       "      <td>2263927</td>\n",
       "      <td>0.008157</td>\n",
       "      <td>3.447004e-02</td>\n",
       "      <td>149.025416</td>\n",
       "    </tr>\n",
       "    <tr>\n",
       "      <th>4</th>\n",
       "      <td>5</td>\n",
       "      <td>Pakistan</td>\n",
       "      <td>PK</td>\n",
       "      <td>1</td>\n",
       "      <td>80624057</td>\n",
       "      <td>154369924</td>\n",
       "      <td>194454498</td>\n",
       "      <td>240485658</td>\n",
       "      <td>245209815</td>\n",
       "      <td>274029836</td>\n",
       "      <td>367808468</td>\n",
       "      <td>770880.00</td>\n",
       "      <td>4724157</td>\n",
       "      <td>0.019644</td>\n",
       "      <td>3.020891e-02</td>\n",
       "      <td>318.090773</td>\n",
       "    </tr>\n",
       "    <tr>\n",
       "      <th>...</th>\n",
       "      <td>...</td>\n",
       "      <td>...</td>\n",
       "      <td>...</td>\n",
       "      <td>...</td>\n",
       "      <td>...</td>\n",
       "      <td>...</td>\n",
       "      <td>...</td>\n",
       "      <td>...</td>\n",
       "      <td>...</td>\n",
       "      <td>...</td>\n",
       "      <td>...</td>\n",
       "      <td>...</td>\n",
       "      <td>...</td>\n",
       "      <td>...</td>\n",
       "      <td>...</td>\n",
       "      <td>...</td>\n",
       "    </tr>\n",
       "    <tr>\n",
       "      <th>229</th>\n",
       "      <td>230</td>\n",
       "      <td>Montserrat</td>\n",
       "      <td>MS</td>\n",
       "      <td>0</td>\n",
       "      <td>11452</td>\n",
       "      <td>5138</td>\n",
       "      <td>4938</td>\n",
       "      <td>4386</td>\n",
       "      <td>4372</td>\n",
       "      <td>4301</td>\n",
       "      <td>3781</td>\n",
       "      <td>102.00</td>\n",
       "      <td>-14</td>\n",
       "      <td>-0.003192</td>\n",
       "      <td>5.386136e-07</td>\n",
       "      <td>42.862745</td>\n",
       "    </tr>\n",
       "    <tr>\n",
       "      <th>230</th>\n",
       "      <td>231</td>\n",
       "      <td>Falkland Islands</td>\n",
       "      <td>FK</td>\n",
       "      <td>0</td>\n",
       "      <td>2240</td>\n",
       "      <td>3080</td>\n",
       "      <td>3187</td>\n",
       "      <td>3791</td>\n",
       "      <td>3803</td>\n",
       "      <td>3869</td>\n",
       "      <td>3779</td>\n",
       "      <td>12173.00</td>\n",
       "      <td>12</td>\n",
       "      <td>0.003165</td>\n",
       "      <td>4.685150e-07</td>\n",
       "      <td>0.312413</td>\n",
       "    </tr>\n",
       "    <tr>\n",
       "      <th>231</th>\n",
       "      <td>232</td>\n",
       "      <td>Niue</td>\n",
       "      <td>NU</td>\n",
       "      <td>0</td>\n",
       "      <td>3637</td>\n",
       "      <td>2074</td>\n",
       "      <td>1812</td>\n",
       "      <td>1935</td>\n",
       "      <td>1935</td>\n",
       "      <td>1948</td>\n",
       "      <td>2096</td>\n",
       "      <td>261.00</td>\n",
       "      <td>0</td>\n",
       "      <td>0.000000</td>\n",
       "      <td>2.383846e-07</td>\n",
       "      <td>7.413793</td>\n",
       "    </tr>\n",
       "    <tr>\n",
       "      <th>232</th>\n",
       "      <td>233</td>\n",
       "      <td>Tokelau</td>\n",
       "      <td>TK</td>\n",
       "      <td>0</td>\n",
       "      <td>1647</td>\n",
       "      <td>1666</td>\n",
       "      <td>1367</td>\n",
       "      <td>1893</td>\n",
       "      <td>1915</td>\n",
       "      <td>2046</td>\n",
       "      <td>2430</td>\n",
       "      <td>10.00</td>\n",
       "      <td>22</td>\n",
       "      <td>0.011622</td>\n",
       "      <td>2.359206e-07</td>\n",
       "      <td>191.500000</td>\n",
       "    </tr>\n",
       "    <tr>\n",
       "      <th>233</th>\n",
       "      <td>234</td>\n",
       "      <td>Vatican City</td>\n",
       "      <td>VA</td>\n",
       "      <td>1</td>\n",
       "      <td>733</td>\n",
       "      <td>651</td>\n",
       "      <td>596</td>\n",
       "      <td>764</td>\n",
       "      <td>764</td>\n",
       "      <td>764</td>\n",
       "      <td>764</td>\n",
       "      <td>0.44</td>\n",
       "      <td>0</td>\n",
       "      <td>0.000000</td>\n",
       "      <td>9.412187e-08</td>\n",
       "      <td>1736.363636</td>\n",
       "    </tr>\n",
       "  </tbody>\n",
       "</table>\n",
       "<p>234 rows × 16 columns</p>\n",
       "</div>"
      ],
      "text/plain": [
       "     rank           country TwoLetterID  unMember    pop1980     pop2000  \\\n",
       "0       1             India          IN         1  696828385  1059633675   \n",
       "1       2             China          CN         1  982372466  1264099069   \n",
       "2       3     United States          US         1  223140018   282398554   \n",
       "3       4         Indonesia          ID         1  148177096   214072421   \n",
       "4       5          Pakistan          PK         1   80624057   154369924   \n",
       "..    ...               ...         ...       ...        ...         ...   \n",
       "229   230        Montserrat          MS         0      11452        5138   \n",
       "230   231  Falkland Islands          FK         0       2240        3080   \n",
       "231   232              Niue          NU         0       3637        2074   \n",
       "232   233           Tokelau          TK         0       1647        1666   \n",
       "233   234      Vatican City          VA         1        733         651   \n",
       "\n",
       "        pop2010     pop2023     pop2024     pop2030     pop2050  landAreaKm  \\\n",
       "0    1240613620  1428627663  1441719852  1514994080  1670490596  2973190.00   \n",
       "1    1348191368  1425671352  1425178782  1415605906  1312636325  9424702.90   \n",
       "2     311182845   339996563   341814420   352162301   375391963  9147420.00   \n",
       "3     244016173   277534122   279798049   292150100   317225213  1877519.00   \n",
       "4     194454498   240485658   245209815   274029836   367808468   770880.00   \n",
       "..          ...         ...         ...         ...         ...         ...   \n",
       "229        4938        4386        4372        4301        3781      102.00   \n",
       "230        3187        3791        3803        3869        3779    12173.00   \n",
       "231        1812        1935        1935        1948        2096      261.00   \n",
       "232        1367        1893        1915        2046        2430       10.00   \n",
       "233         596         764         764         764         764        0.44   \n",
       "\n",
       "     2024YoYChange  2024YoYGrowthRate  2024WorldPercentage  Density_2024  \n",
       "0         13092189           0.009164         1.776143e-01    484.906734  \n",
       "1          -492570          -0.000346         1.755766e-01    151.217370  \n",
       "2          1817857           0.005347         4.211022e-02     37.367304  \n",
       "3          2263927           0.008157         3.447004e-02    149.025416  \n",
       "4          4724157           0.019644         3.020891e-02    318.090773  \n",
       "..             ...                ...                  ...           ...  \n",
       "229            -14          -0.003192         5.386136e-07     42.862745  \n",
       "230             12           0.003165         4.685150e-07      0.312413  \n",
       "231              0           0.000000         2.383846e-07      7.413793  \n",
       "232             22           0.011622         2.359206e-07    191.500000  \n",
       "233              0           0.000000         9.412187e-08   1736.363636  \n",
       "\n",
       "[234 rows x 16 columns]"
      ]
     },
     "execution_count": 10,
     "metadata": {},
     "output_type": "execute_result"
    }
   ],
   "source": [
    "df"
   ]
  },
  {
   "cell_type": "markdown",
   "id": "821c0b7b",
   "metadata": {
    "papermill": {
     "duration": 0.015701,
     "end_time": "2024-06-12T16:34:21.978886",
     "exception": false,
     "start_time": "2024-06-12T16:34:21.963185",
     "status": "completed"
    },
    "tags": []
   },
   "source": [
    "# Spliting data"
   ]
  },
  {
   "cell_type": "code",
   "execution_count": 11,
   "id": "ff0169fa",
   "metadata": {
    "execution": {
     "iopub.execute_input": "2024-06-12T16:34:22.014968Z",
     "iopub.status.busy": "2024-06-12T16:34:22.014467Z",
     "iopub.status.idle": "2024-06-12T16:34:22.022765Z",
     "shell.execute_reply": "2024-06-12T16:34:22.021413Z"
    },
    "papermill": {
     "duration": 0.029429,
     "end_time": "2024-06-12T16:34:22.025586",
     "exception": false,
     "start_time": "2024-06-12T16:34:21.996157",
     "status": "completed"
    },
    "tags": []
   },
   "outputs": [],
   "source": [
    "# Define Features and Target\n",
    "X = df.drop(['pop2024','country','TwoLetterID','rank'], axis=1)\n",
    "y = df['pop2024']"
   ]
  },
  {
   "cell_type": "code",
   "execution_count": 12,
   "id": "fd6749e4",
   "metadata": {
    "execution": {
     "iopub.execute_input": "2024-06-12T16:34:22.060132Z",
     "iopub.status.busy": "2024-06-12T16:34:22.059707Z",
     "iopub.status.idle": "2024-06-12T16:34:22.070096Z",
     "shell.execute_reply": "2024-06-12T16:34:22.068700Z"
    },
    "papermill": {
     "duration": 0.031164,
     "end_time": "2024-06-12T16:34:22.072719",
     "exception": false,
     "start_time": "2024-06-12T16:34:22.041555",
     "status": "completed"
    },
    "tags": []
   },
   "outputs": [],
   "source": [
    "from sklearn.model_selection import train_test_split\n",
    "\n",
    "# Train-Test Split\n",
    "X_train, X_test, y_train, y_test = train_test_split(X, y, test_size=0.2, random_state=42)\n"
   ]
  },
  {
   "cell_type": "code",
   "execution_count": 13,
   "id": "ea6131ab",
   "metadata": {
    "execution": {
     "iopub.execute_input": "2024-06-12T16:34:22.109001Z",
     "iopub.status.busy": "2024-06-12T16:34:22.108543Z",
     "iopub.status.idle": "2024-06-12T16:34:22.122991Z",
     "shell.execute_reply": "2024-06-12T16:34:22.121663Z"
    },
    "papermill": {
     "duration": 0.037296,
     "end_time": "2024-06-12T16:34:22.126192",
     "exception": false,
     "start_time": "2024-06-12T16:34:22.088896",
     "status": "completed"
    },
    "tags": []
   },
   "outputs": [],
   "source": [
    "#scaling\n",
    "scaler = StandardScaler()\n",
    "X_train = scaler.fit_transform(X_train)\n",
    "X_test = scaler.transform(X_test)\n"
   ]
  },
  {
   "cell_type": "markdown",
   "id": "fbe397e0",
   "metadata": {
    "papermill": {
     "duration": 0.015707,
     "end_time": "2024-06-12T16:34:22.157968",
     "exception": false,
     "start_time": "2024-06-12T16:34:22.142261",
     "status": "completed"
    },
    "tags": []
   },
   "source": [
    "# Random Forest"
   ]
  },
  {
   "cell_type": "code",
   "execution_count": 14,
   "id": "e61f0c0b",
   "metadata": {
    "execution": {
     "iopub.execute_input": "2024-06-12T16:34:22.192831Z",
     "iopub.status.busy": "2024-06-12T16:34:22.192362Z",
     "iopub.status.idle": "2024-06-12T16:34:22.537508Z",
     "shell.execute_reply": "2024-06-12T16:34:22.535976Z"
    },
    "papermill": {
     "duration": 0.366666,
     "end_time": "2024-06-12T16:34:22.540344",
     "exception": false,
     "start_time": "2024-06-12T16:34:22.173678",
     "status": "completed"
    },
    "tags": []
   },
   "outputs": [
    {
     "data": {
      "text/html": [
       "<style>#sk-container-id-1 {color: black;background-color: white;}#sk-container-id-1 pre{padding: 0;}#sk-container-id-1 div.sk-toggleable {background-color: white;}#sk-container-id-1 label.sk-toggleable__label {cursor: pointer;display: block;width: 100%;margin-bottom: 0;padding: 0.3em;box-sizing: border-box;text-align: center;}#sk-container-id-1 label.sk-toggleable__label-arrow:before {content: \"▸\";float: left;margin-right: 0.25em;color: #696969;}#sk-container-id-1 label.sk-toggleable__label-arrow:hover:before {color: black;}#sk-container-id-1 div.sk-estimator:hover label.sk-toggleable__label-arrow:before {color: black;}#sk-container-id-1 div.sk-toggleable__content {max-height: 0;max-width: 0;overflow: hidden;text-align: left;background-color: #f0f8ff;}#sk-container-id-1 div.sk-toggleable__content pre {margin: 0.2em;color: black;border-radius: 0.25em;background-color: #f0f8ff;}#sk-container-id-1 input.sk-toggleable__control:checked~div.sk-toggleable__content {max-height: 200px;max-width: 100%;overflow: auto;}#sk-container-id-1 input.sk-toggleable__control:checked~label.sk-toggleable__label-arrow:before {content: \"▾\";}#sk-container-id-1 div.sk-estimator input.sk-toggleable__control:checked~label.sk-toggleable__label {background-color: #d4ebff;}#sk-container-id-1 div.sk-label input.sk-toggleable__control:checked~label.sk-toggleable__label {background-color: #d4ebff;}#sk-container-id-1 input.sk-hidden--visually {border: 0;clip: rect(1px 1px 1px 1px);clip: rect(1px, 1px, 1px, 1px);height: 1px;margin: -1px;overflow: hidden;padding: 0;position: absolute;width: 1px;}#sk-container-id-1 div.sk-estimator {font-family: monospace;background-color: #f0f8ff;border: 1px dotted black;border-radius: 0.25em;box-sizing: border-box;margin-bottom: 0.5em;}#sk-container-id-1 div.sk-estimator:hover {background-color: #d4ebff;}#sk-container-id-1 div.sk-parallel-item::after {content: \"\";width: 100%;border-bottom: 1px solid gray;flex-grow: 1;}#sk-container-id-1 div.sk-label:hover label.sk-toggleable__label {background-color: #d4ebff;}#sk-container-id-1 div.sk-serial::before {content: \"\";position: absolute;border-left: 1px solid gray;box-sizing: border-box;top: 0;bottom: 0;left: 50%;z-index: 0;}#sk-container-id-1 div.sk-serial {display: flex;flex-direction: column;align-items: center;background-color: white;padding-right: 0.2em;padding-left: 0.2em;position: relative;}#sk-container-id-1 div.sk-item {position: relative;z-index: 1;}#sk-container-id-1 div.sk-parallel {display: flex;align-items: stretch;justify-content: center;background-color: white;position: relative;}#sk-container-id-1 div.sk-item::before, #sk-container-id-1 div.sk-parallel-item::before {content: \"\";position: absolute;border-left: 1px solid gray;box-sizing: border-box;top: 0;bottom: 0;left: 50%;z-index: -1;}#sk-container-id-1 div.sk-parallel-item {display: flex;flex-direction: column;z-index: 1;position: relative;background-color: white;}#sk-container-id-1 div.sk-parallel-item:first-child::after {align-self: flex-end;width: 50%;}#sk-container-id-1 div.sk-parallel-item:last-child::after {align-self: flex-start;width: 50%;}#sk-container-id-1 div.sk-parallel-item:only-child::after {width: 0;}#sk-container-id-1 div.sk-dashed-wrapped {border: 1px dashed gray;margin: 0 0.4em 0.5em 0.4em;box-sizing: border-box;padding-bottom: 0.4em;background-color: white;}#sk-container-id-1 div.sk-label label {font-family: monospace;font-weight: bold;display: inline-block;line-height: 1.2em;}#sk-container-id-1 div.sk-label-container {text-align: center;}#sk-container-id-1 div.sk-container {/* jupyter's `normalize.less` sets `[hidden] { display: none; }` but bootstrap.min.css set `[hidden] { display: none !important; }` so we also need the `!important` here to be able to override the default hidden behavior on the sphinx rendered scikit-learn.org. See: https://github.com/scikit-learn/scikit-learn/issues/21755 */display: inline-block !important;position: relative;}#sk-container-id-1 div.sk-text-repr-fallback {display: none;}</style><div id=\"sk-container-id-1\" class=\"sk-top-container\"><div class=\"sk-text-repr-fallback\"><pre>RandomForestRegressor(random_state=42)</pre><b>In a Jupyter environment, please rerun this cell to show the HTML representation or trust the notebook. <br />On GitHub, the HTML representation is unable to render, please try loading this page with nbviewer.org.</b></div><div class=\"sk-container\" hidden><div class=\"sk-item\"><div class=\"sk-estimator sk-toggleable\"><input class=\"sk-toggleable__control sk-hidden--visually\" id=\"sk-estimator-id-1\" type=\"checkbox\" checked><label for=\"sk-estimator-id-1\" class=\"sk-toggleable__label sk-toggleable__label-arrow\">RandomForestRegressor</label><div class=\"sk-toggleable__content\"><pre>RandomForestRegressor(random_state=42)</pre></div></div></div></div></div>"
      ],
      "text/plain": [
       "RandomForestRegressor(random_state=42)"
      ]
     },
     "execution_count": 14,
     "metadata": {},
     "output_type": "execute_result"
    }
   ],
   "source": [
    "model = RandomForestRegressor(n_estimators=100, random_state=42)\n",
    "model.fit(X_train, y_train)\n"
   ]
  },
  {
   "cell_type": "markdown",
   "id": "887637dd",
   "metadata": {
    "papermill": {
     "duration": 0.015529,
     "end_time": "2024-06-12T16:34:22.571755",
     "exception": false,
     "start_time": "2024-06-12T16:34:22.556226",
     "status": "completed"
    },
    "tags": []
   },
   "source": [
    "# Model Evaluation"
   ]
  },
  {
   "cell_type": "code",
   "execution_count": 15,
   "id": "d0158877",
   "metadata": {
    "execution": {
     "iopub.execute_input": "2024-06-12T16:34:22.606818Z",
     "iopub.status.busy": "2024-06-12T16:34:22.605121Z",
     "iopub.status.idle": "2024-06-12T16:34:22.627535Z",
     "shell.execute_reply": "2024-06-12T16:34:22.626039Z"
    },
    "papermill": {
     "duration": 0.043018,
     "end_time": "2024-06-12T16:34:22.630707",
     "exception": false,
     "start_time": "2024-06-12T16:34:22.587689",
     "status": "completed"
    },
    "tags": []
   },
   "outputs": [],
   "source": [
    "y_pred_train = model.predict(X_train)\n",
    "y_pred_test = model.predict(X_test)\n"
   ]
  },
  {
   "cell_type": "code",
   "execution_count": 16,
   "id": "0135acbd",
   "metadata": {
    "execution": {
     "iopub.execute_input": "2024-06-12T16:34:22.664799Z",
     "iopub.status.busy": "2024-06-12T16:34:22.664354Z",
     "iopub.status.idle": "2024-06-12T16:34:22.676510Z",
     "shell.execute_reply": "2024-06-12T16:34:22.674799Z"
    },
    "papermill": {
     "duration": 0.033063,
     "end_time": "2024-06-12T16:34:22.679659",
     "exception": false,
     "start_time": "2024-06-12T16:34:22.646596",
     "status": "completed"
    },
    "tags": []
   },
   "outputs": [
    {
     "name": "stdout",
     "output_type": "stream",
     "text": [
      "Training Data Evaluation\n",
      "MAE: 2150395.804117647\n",
      "MSE: 256084734056440.66\n",
      "RMSE: 16002647.720188078\n",
      "R²: 0.9890543590104486\n"
     ]
    }
   ],
   "source": [
    "print(\"Training Data Evaluation\")\n",
    "print(\"MAE:\", mean_absolute_error(y_train, y_pred_train))\n",
    "print(\"MSE:\", mean_squared_error(y_train, y_pred_train))\n",
    "print(\"RMSE:\", np.sqrt(mean_squared_error(y_train, y_pred_train)))\n",
    "print(\"R²:\", r2_score(y_train, y_pred_train))\n"
   ]
  },
  {
   "cell_type": "code",
   "execution_count": 17,
   "id": "efa259b2",
   "metadata": {
    "execution": {
     "iopub.execute_input": "2024-06-12T16:34:22.714968Z",
     "iopub.status.busy": "2024-06-12T16:34:22.713616Z",
     "iopub.status.idle": "2024-06-12T16:34:22.723960Z",
     "shell.execute_reply": "2024-06-12T16:34:22.722460Z"
    },
    "papermill": {
     "duration": 0.031283,
     "end_time": "2024-06-12T16:34:22.726966",
     "exception": false,
     "start_time": "2024-06-12T16:34:22.695683",
     "status": "completed"
    },
    "tags": []
   },
   "outputs": [
    {
     "name": "stdout",
     "output_type": "stream",
     "text": [
      "Testing Data Evaluation\n",
      "MAE: 667108.1585106383\n",
      "MSE: 2703484181932.289\n",
      "RMSE: 1644227.533503891\n",
      "R²: 0.9977267477934443\n"
     ]
    }
   ],
   "source": [
    "print(\"Testing Data Evaluation\")\n",
    "print(\"MAE:\", mean_absolute_error(y_test, y_pred_test))\n",
    "print(\"MSE:\", mean_squared_error(y_test, y_pred_test))\n",
    "print(\"RMSE:\", np.sqrt(mean_squared_error(y_test, y_pred_test)))\n",
    "print(\"R²:\", r2_score(y_test, y_pred_test))\n"
   ]
  },
  {
   "cell_type": "code",
   "execution_count": 18,
   "id": "0e555c91",
   "metadata": {
    "execution": {
     "iopub.execute_input": "2024-06-12T16:34:22.762018Z",
     "iopub.status.busy": "2024-06-12T16:34:22.760561Z",
     "iopub.status.idle": "2024-06-12T16:34:22.779421Z",
     "shell.execute_reply": "2024-06-12T16:34:22.778296Z"
    },
    "papermill": {
     "duration": 0.039403,
     "end_time": "2024-06-12T16:34:22.782288",
     "exception": false,
     "start_time": "2024-06-12T16:34:22.742885",
     "status": "completed"
    },
    "tags": []
   },
   "outputs": [
    {
     "name": "stdout",
     "output_type": "stream",
     "text": [
      "                       importance\n",
      "pop2030              1.604756e-01\n",
      "pop2023              1.511485e-01\n",
      "2024WorldPercentage  1.490374e-01\n",
      "pop2010              1.326945e-01\n",
      "pop2000              1.307533e-01\n",
      "pop1980              1.286867e-01\n",
      "pop2050              9.555338e-02\n",
      "2024YoYChange        4.204346e-02\n",
      "landAreaKm           9.290905e-03\n",
      "2024YoYGrowthRate    2.027740e-04\n",
      "Density_2024         1.134225e-04\n",
      "unMember             9.255893e-09\n"
     ]
    }
   ],
   "source": [
    "feature_importances = pd.DataFrame(model.feature_importances_,\n",
    "                                   index = X.columns,\n",
    "                                   columns=['importance']).sort_values('importance', ascending=False)\n",
    "print(feature_importances)\n"
   ]
  },
  {
   "cell_type": "code",
   "execution_count": 19,
   "id": "59c085d3",
   "metadata": {
    "execution": {
     "iopub.execute_input": "2024-06-12T16:34:22.817867Z",
     "iopub.status.busy": "2024-06-12T16:34:22.817101Z",
     "iopub.status.idle": "2024-06-12T16:34:23.200551Z",
     "shell.execute_reply": "2024-06-12T16:34:23.199102Z"
    },
    "papermill": {
     "duration": 0.40454,
     "end_time": "2024-06-12T16:34:23.203533",
     "exception": false,
     "start_time": "2024-06-12T16:34:22.798993",
     "status": "completed"
    },
    "tags": []
   },
   "outputs": [
    {
     "data": {
      "image/png": "[encoded data removed]",
      "text/plain": [
       "<Figure size 1200x800 with 1 Axes>"
      ]
     },
     "metadata": {},
     "output_type": "display_data"
    }
   ],
   "source": [
    "plt.figure(figsize=(12, 8))\n",
    "sns.barplot(x=feature_importances.importance, y=feature_importances.index)\n",
    "plt.title('Feature Importance')\n",
    "plt.show()\n"
   ]
  },
  {
   "cell_type": "markdown",
   "id": "50c0a650",
   "metadata": {
    "papermill": {
     "duration": 0.016429,
     "end_time": "2024-06-12T16:34:23.237250",
     "exception": false,
     "start_time": "2024-06-12T16:34:23.220821",
     "status": "completed"
    },
    "tags": []
   },
   "source": [
    "# Hyperparameter Tuning"
   ]
  },
  {
   "cell_type": "code",
   "execution_count": 20,
   "id": "50b1f4c3",
   "metadata": {
    "execution": {
     "iopub.execute_input": "2024-06-12T16:34:23.273642Z",
     "iopub.status.busy": "2024-06-12T16:34:23.273139Z",
     "iopub.status.idle": "2024-06-12T16:34:23.280046Z",
     "shell.execute_reply": "2024-06-12T16:34:23.278855Z"
    },
    "papermill": {
     "duration": 0.028238,
     "end_time": "2024-06-12T16:34:23.282605",
     "exception": false,
     "start_time": "2024-06-12T16:34:23.254367",
     "status": "completed"
    },
    "tags": []
   },
   "outputs": [],
   "source": [
    "from sklearn.model_selection import RandomizedSearchCV\n",
    "\n",
    "param_grid = {\n",
    "    'n_estimators': [50, 100, 150, 200],\n",
    "    'max_depth': [None, 10, 20, 30],\n",
    "    'min_samples_split': [2, 5, 10],\n",
    "   \n",
    "}"
   ]
  },
  {
   "cell_type": "code",
   "execution_count": 21,
   "id": "b5e2ebd9",
   "metadata": {
    "execution": {
     "iopub.execute_input": "2024-06-12T16:34:23.318610Z",
     "iopub.status.busy": "2024-06-12T16:34:23.318123Z",
     "iopub.status.idle": "2024-06-12T16:34:23.324074Z",
     "shell.execute_reply": "2024-06-12T16:34:23.322921Z"
    },
    "papermill": {
     "duration": 0.027215,
     "end_time": "2024-06-12T16:34:23.326707",
     "exception": false,
     "start_time": "2024-06-12T16:34:23.299492",
     "status": "completed"
    },
    "tags": []
   },
   "outputs": [],
   "source": [
    "rf = RandomForestRegressor(random_state=42)\n"
   ]
  },
  {
   "cell_type": "code",
   "execution_count": 22,
   "id": "63f3a35d",
   "metadata": {
    "execution": {
     "iopub.execute_input": "2024-06-12T16:34:23.363646Z",
     "iopub.status.busy": "2024-06-12T16:34:23.363192Z",
     "iopub.status.idle": "2024-06-12T16:34:23.369783Z",
     "shell.execute_reply": "2024-06-12T16:34:23.368448Z"
    },
    "papermill": {
     "duration": 0.028789,
     "end_time": "2024-06-12T16:34:23.372654",
     "exception": false,
     "start_time": "2024-06-12T16:34:23.343865",
     "status": "completed"
    },
    "tags": []
   },
   "outputs": [],
   "source": [
    "random_search = RandomizedSearchCV(estimator=rf, param_distributions=param_grid, n_iter=100, cv=5, verbose=2, random_state=42, n_jobs=-1)"
   ]
  },
  {
   "cell_type": "code",
   "execution_count": 23,
   "id": "b2d7e956",
   "metadata": {
    "execution": {
     "iopub.execute_input": "2024-06-12T16:34:23.410235Z",
     "iopub.status.busy": "2024-06-12T16:34:23.409782Z",
     "iopub.status.idle": "2024-06-12T16:34:56.732099Z",
     "shell.execute_reply": "2024-06-12T16:34:56.730710Z"
    },
    "papermill": {
     "duration": 33.361156,
     "end_time": "2024-06-12T16:34:56.751392",
     "exception": false,
     "start_time": "2024-06-12T16:34:23.390236",
     "status": "completed"
    },
    "tags": []
   },
   "outputs": [
    {
     "name": "stdout",
     "output_type": "stream",
     "text": [
      "Fitting 5 folds for each of 48 candidates, totalling 240 fits\n"
     ]
    },
    {
     "name": "stderr",
     "output_type": "stream",
     "text": [
      "/opt/conda/lib/python3.10/site-packages/sklearn/model_selection/_search.py:305: UserWarning: The total space of parameters 48 is smaller than n_iter=100. Running 48 iterations. For exhaustive searches, use GridSearchCV.\n",
      "  warnings.warn(\n"
     ]
    },
    {
     "data": {
      "text/html": [
       "<style>#sk-container-id-2 {color: black;background-color: white;}#sk-container-id-2 pre{padding: 0;}#sk-container-id-2 div.sk-toggleable {background-color: white;}#sk-container-id-2 label.sk-toggleable__label {cursor: pointer;display: block;width: 100%;margin-bottom: 0;padding: 0.3em;box-sizing: border-box;text-align: center;}#sk-container-id-2 label.sk-toggleable__label-arrow:before {content: \"▸\";float: left;margin-right: 0.25em;color: #696969;}#sk-container-id-2 label.sk-toggleable__label-arrow:hover:before {color: black;}#sk-container-id-2 div.sk-estimator:hover label.sk-toggleable__label-arrow:before {color: black;}#sk-container-id-2 div.sk-toggleable__content {max-height: 0;max-width: 0;overflow: hidden;text-align: left;background-color: #f0f8ff;}#sk-container-id-2 div.sk-toggleable__content pre {margin: 0.2em;color: black;border-radius: 0.25em;background-color: #f0f8ff;}#sk-container-id-2 input.sk-toggleable__control:checked~div.sk-toggleable__content {max-height: 200px;max-width: 100%;overflow: auto;}#sk-container-id-2 input.sk-toggleable__control:checked~label.sk-toggleable__label-arrow:before {content: \"▾\";}#sk-container-id-2 div.sk-estimator input.sk-toggleable__control:checked~label.sk-toggleable__label {background-color: #d4ebff;}#sk-container-id-2 div.sk-label input.sk-toggleable__control:checked~label.sk-toggleable__label {background-color: #d4ebff;}#sk-container-id-2 input.sk-hidden--visually {border: 0;clip: rect(1px 1px 1px 1px);clip: rect(1px, 1px, 1px, 1px);height: 1px;margin: -1px;overflow: hidden;padding: 0;position: absolute;width: 1px;}#sk-container-id-2 div.sk-estimator {font-family: monospace;background-color: #f0f8ff;border: 1px dotted black;border-radius: 0.25em;box-sizing: border-box;margin-bottom: 0.5em;}#sk-container-id-2 div.sk-estimator:hover {background-color: #d4ebff;}#sk-container-id-2 div.sk-parallel-item::after {content: \"\";width: 100%;border-bottom: 1px solid gray;flex-grow: 1;}#sk-container-id-2 div.sk-label:hover label.sk-toggleable__label {background-color: #d4ebff;}#sk-container-id-2 div.sk-serial::before {content: \"\";position: absolute;border-left: 1px solid gray;box-sizing: border-box;top: 0;bottom: 0;left: 50%;z-index: 0;}#sk-container-id-2 div.sk-serial {display: flex;flex-direction: column;align-items: center;background-color: white;padding-right: 0.2em;padding-left: 0.2em;position: relative;}#sk-container-id-2 div.sk-item {position: relative;z-index: 1;}#sk-container-id-2 div.sk-parallel {display: flex;align-items: stretch;justify-content: center;background-color: white;position: relative;}#sk-container-id-2 div.sk-item::before, #sk-container-id-2 div.sk-parallel-item::before {content: \"\";position: absolute;border-left: 1px solid gray;box-sizing: border-box;top: 0;bottom: 0;left: 50%;z-index: -1;}#sk-container-id-2 div.sk-parallel-item {display: flex;flex-direction: column;z-index: 1;position: relative;background-color: white;}#sk-container-id-2 div.sk-parallel-item:first-child::after {align-self: flex-end;width: 50%;}#sk-container-id-2 div.sk-parallel-item:last-child::after {align-self: flex-start;width: 50%;}#sk-container-id-2 div.sk-parallel-item:only-child::after {width: 0;}#sk-container-id-2 div.sk-dashed-wrapped {border: 1px dashed gray;margin: 0 0.4em 0.5em 0.4em;box-sizing: border-box;padding-bottom: 0.4em;background-color: white;}#sk-container-id-2 div.sk-label label {font-family: monospace;font-weight: bold;display: inline-block;line-height: 1.2em;}#sk-container-id-2 div.sk-label-container {text-align: center;}#sk-container-id-2 div.sk-container {/* jupyter's `normalize.less` sets `[hidden] { display: none; }` but bootstrap.min.css set `[hidden] { display: none !important; }` so we also need the `!important` here to be able to override the default hidden behavior on the sphinx rendered scikit-learn.org. See: https://github.com/scikit-learn/scikit-learn/issues/21755 */display: inline-block !important;position: relative;}#sk-container-id-2 div.sk-text-repr-fallback {display: none;}</style><div id=\"sk-container-id-2\" class=\"sk-top-container\"><div class=\"sk-text-repr-fallback\"><pre>RandomizedSearchCV(cv=5, estimator=RandomForestRegressor(random_state=42),\n",
       "                   n_iter=100, n_jobs=-1,\n",
       "                   param_distributions={&#x27;max_depth&#x27;: [None, 10, 20, 30],\n",
       "                                        &#x27;min_samples_split&#x27;: [2, 5, 10],\n",
       "                                        &#x27;n_estimators&#x27;: [50, 100, 150, 200]},\n",
       "                   random_state=42, verbose=2)</pre><b>In a Jupyter environment, please rerun this cell to show the HTML representation or trust the notebook. <br />On GitHub, the HTML representation is unable to render, please try loading this page with nbviewer.org.</b></div><div class=\"sk-container\" hidden><div class=\"sk-item sk-dashed-wrapped\"><div class=\"sk-label-container\"><div class=\"sk-label sk-toggleable\"><input class=\"sk-toggleable__control sk-hidden--visually\" id=\"sk-estimator-id-2\" type=\"checkbox\" ><label for=\"sk-estimator-id-2\" class=\"sk-toggleable__label sk-toggleable__label-arrow\">RandomizedSearchCV</label><div class=\"sk-toggleable__content\"><pre>RandomizedSearchCV(cv=5, estimator=RandomForestRegressor(random_state=42),\n",
       "                   n_iter=100, n_jobs=-1,\n",
       "                   param_distributions={&#x27;max_depth&#x27;: [None, 10, 20, 30],\n",
       "                                        &#x27;min_samples_split&#x27;: [2, 5, 10],\n",
       "                                        &#x27;n_estimators&#x27;: [50, 100, 150, 200]},\n",
       "                   random_state=42, verbose=2)</pre></div></div></div><div class=\"sk-parallel\"><div class=\"sk-parallel-item\"><div class=\"sk-item\"><div class=\"sk-label-container\"><div class=\"sk-label sk-toggleable\"><input class=\"sk-toggleable__control sk-hidden--visually\" id=\"sk-estimator-id-3\" type=\"checkbox\" ><label for=\"sk-estimator-id-3\" class=\"sk-toggleable__label sk-toggleable__label-arrow\">estimator: RandomForestRegressor</label><div class=\"sk-toggleable__content\"><pre>RandomForestRegressor(random_state=42)</pre></div></div></div><div class=\"sk-serial\"><div class=\"sk-item\"><div class=\"sk-estimator sk-toggleable\"><input class=\"sk-toggleable__control sk-hidden--visually\" id=\"sk-estimator-id-4\" type=\"checkbox\" ><label for=\"sk-estimator-id-4\" class=\"sk-toggleable__label sk-toggleable__label-arrow\">RandomForestRegressor</label><div class=\"sk-toggleable__content\"><pre>RandomForestRegressor(random_state=42)</pre></div></div></div></div></div></div></div></div></div></div>"
      ],
      "text/plain": [
       "RandomizedSearchCV(cv=5, estimator=RandomForestRegressor(random_state=42),\n",
       "                   n_iter=100, n_jobs=-1,\n",
       "                   param_distributions={'max_depth': [None, 10, 20, 30],\n",
       "                                        'min_samples_split': [2, 5, 10],\n",
       "                                        'n_estimators': [50, 100, 150, 200]},\n",
       "                   random_state=42, verbose=2)"
      ]
     },
     "execution_count": 23,
     "metadata": {},
     "output_type": "execute_result"
    }
   ],
   "source": [
    "random_search.fit(X_train, y_train)\n"
   ]
  },
  {
   "cell_type": "code",
   "execution_count": 24,
   "id": "76bad1e9",
   "metadata": {
    "execution": {
     "iopub.execute_input": "2024-06-12T16:34:56.790300Z",
     "iopub.status.busy": "2024-06-12T16:34:56.788739Z",
     "iopub.status.idle": "2024-06-12T16:34:56.796490Z",
     "shell.execute_reply": "2024-06-12T16:34:56.795242Z"
    },
    "papermill": {
     "duration": 0.029893,
     "end_time": "2024-06-12T16:34:56.799119",
     "exception": false,
     "start_time": "2024-06-12T16:34:56.769226",
     "status": "completed"
    },
    "tags": []
   },
   "outputs": [
    {
     "name": "stdout",
     "output_type": "stream",
     "text": [
      "Best Hyperparameters:\n",
      "{'n_estimators': 200, 'min_samples_split': 2, 'max_depth': 10}\n"
     ]
    }
   ],
   "source": [
    "print(\"Best Hyperparameters:\")\n",
    "print(random_search.best_params_)"
   ]
  },
  {
   "cell_type": "code",
   "execution_count": 25,
   "id": "a5ab2192",
   "metadata": {
    "execution": {
     "iopub.execute_input": "2024-06-12T16:34:56.836634Z",
     "iopub.status.busy": "2024-06-12T16:34:56.836133Z",
     "iopub.status.idle": "2024-06-12T16:34:56.843290Z",
     "shell.execute_reply": "2024-06-12T16:34:56.841585Z"
    },
    "papermill": {
     "duration": 0.02959,
     "end_time": "2024-06-12T16:34:56.846040",
     "exception": false,
     "start_time": "2024-06-12T16:34:56.816450",
     "status": "completed"
    },
    "tags": []
   },
   "outputs": [],
   "source": [
    "best_rf = RandomForestRegressor(n_estimators=200, min_samples_split=2, max_depth=None, random_state=42)"
   ]
  },
  {
   "cell_type": "code",
   "execution_count": 26,
   "id": "e9e26583",
   "metadata": {
    "execution": {
     "iopub.execute_input": "2024-06-12T16:34:56.884369Z",
     "iopub.status.busy": "2024-06-12T16:34:56.883903Z",
     "iopub.status.idle": "2024-06-12T16:34:57.495629Z",
     "shell.execute_reply": "2024-06-12T16:34:57.494421Z"
    },
    "papermill": {
     "duration": 0.634228,
     "end_time": "2024-06-12T16:34:57.498395",
     "exception": false,
     "start_time": "2024-06-12T16:34:56.864167",
     "status": "completed"
    },
    "tags": []
   },
   "outputs": [
    {
     "data": {
      "text/html": [
       "<style>#sk-container-id-3 {color: black;background-color: white;}#sk-container-id-3 pre{padding: 0;}#sk-container-id-3 div.sk-toggleable {background-color: white;}#sk-container-id-3 label.sk-toggleable__label {cursor: pointer;display: block;width: 100%;margin-bottom: 0;padding: 0.3em;box-sizing: border-box;text-align: center;}#sk-container-id-3 label.sk-toggleable__label-arrow:before {content: \"▸\";float: left;margin-right: 0.25em;color: #696969;}#sk-container-id-3 label.sk-toggleable__label-arrow:hover:before {color: black;}#sk-container-id-3 div.sk-estimator:hover label.sk-toggleable__label-arrow:before {color: black;}#sk-container-id-3 div.sk-toggleable__content {max-height: 0;max-width: 0;overflow: hidden;text-align: left;background-color: #f0f8ff;}#sk-container-id-3 div.sk-toggleable__content pre {margin: 0.2em;color: black;border-radius: 0.25em;background-color: #f0f8ff;}#sk-container-id-3 input.sk-toggleable__control:checked~div.sk-toggleable__content {max-height: 200px;max-width: 100%;overflow: auto;}#sk-container-id-3 input.sk-toggleable__control:checked~label.sk-toggleable__label-arrow:before {content: \"▾\";}#sk-container-id-3 div.sk-estimator input.sk-toggleable__control:checked~label.sk-toggleable__label {background-color: #d4ebff;}#sk-container-id-3 div.sk-label input.sk-toggleable__control:checked~label.sk-toggleable__label {background-color: #d4ebff;}#sk-container-id-3 input.sk-hidden--visually {border: 0;clip: rect(1px 1px 1px 1px);clip: rect(1px, 1px, 1px, 1px);height: 1px;margin: -1px;overflow: hidden;padding: 0;position: absolute;width: 1px;}#sk-container-id-3 div.sk-estimator {font-family: monospace;background-color: #f0f8ff;border: 1px dotted black;border-radius: 0.25em;box-sizing: border-box;margin-bottom: 0.5em;}#sk-container-id-3 div.sk-estimator:hover {background-color: #d4ebff;}#sk-container-id-3 div.sk-parallel-item::after {content: \"\";width: 100%;border-bottom: 1px solid gray;flex-grow: 1;}#sk-container-id-3 div.sk-label:hover label.sk-toggleable__label {background-color: #d4ebff;}#sk-container-id-3 div.sk-serial::before {content: \"\";position: absolute;border-left: 1px solid gray;box-sizing: border-box;top: 0;bottom: 0;left: 50%;z-index: 0;}#sk-container-id-3 div.sk-serial {display: flex;flex-direction: column;align-items: center;background-color: white;padding-right: 0.2em;padding-left: 0.2em;position: relative;}#sk-container-id-3 div.sk-item {position: relative;z-index: 1;}#sk-container-id-3 div.sk-parallel {display: flex;align-items: stretch;justify-content: center;background-color: white;position: relative;}#sk-container-id-3 div.sk-item::before, #sk-container-id-3 div.sk-parallel-item::before {content: \"\";position: absolute;border-left: 1px solid gray;box-sizing: border-box;top: 0;bottom: 0;left: 50%;z-index: -1;}#sk-container-id-3 div.sk-parallel-item {display: flex;flex-direction: column;z-index: 1;position: relative;background-color: white;}#sk-container-id-3 div.sk-parallel-item:first-child::after {align-self: flex-end;width: 50%;}#sk-container-id-3 div.sk-parallel-item:last-child::after {align-self: flex-start;width: 50%;}#sk-container-id-3 div.sk-parallel-item:only-child::after {width: 0;}#sk-container-id-3 div.sk-dashed-wrapped {border: 1px dashed gray;margin: 0 0.4em 0.5em 0.4em;box-sizing: border-box;padding-bottom: 0.4em;background-color: white;}#sk-container-id-3 div.sk-label label {font-family: monospace;font-weight: bold;display: inline-block;line-height: 1.2em;}#sk-container-id-3 div.sk-label-container {text-align: center;}#sk-container-id-3 div.sk-container {/* jupyter's `normalize.less` sets `[hidden] { display: none; }` but bootstrap.min.css set `[hidden] { display: none !important; }` so we also need the `!important` here to be able to override the default hidden behavior on the sphinx rendered scikit-learn.org. See: https://github.com/scikit-learn/scikit-learn/issues/21755 */display: inline-block !important;position: relative;}#sk-container-id-3 div.sk-text-repr-fallback {display: none;}</style><div id=\"sk-container-id-3\" class=\"sk-top-container\"><div class=\"sk-text-repr-fallback\"><pre>RandomForestRegressor(n_estimators=200, random_state=42)</pre><b>In a Jupyter environment, please rerun this cell to show the HTML representation or trust the notebook. <br />On GitHub, the HTML representation is unable to render, please try loading this page with nbviewer.org.</b></div><div class=\"sk-container\" hidden><div class=\"sk-item\"><div class=\"sk-estimator sk-toggleable\"><input class=\"sk-toggleable__control sk-hidden--visually\" id=\"sk-estimator-id-5\" type=\"checkbox\" checked><label for=\"sk-estimator-id-5\" class=\"sk-toggleable__label sk-toggleable__label-arrow\">RandomForestRegressor</label><div class=\"sk-toggleable__content\"><pre>RandomForestRegressor(n_estimators=200, random_state=42)</pre></div></div></div></div></div>"
      ],
      "text/plain": [
       "RandomForestRegressor(n_estimators=200, random_state=42)"
      ]
     },
     "execution_count": 26,
     "metadata": {},
     "output_type": "execute_result"
    }
   ],
   "source": [
    "best_rf.fit(X_train, y_train)\n"
   ]
  },
  {
   "cell_type": "code",
   "execution_count": 27,
   "id": "7643bb19",
   "metadata": {
    "execution": {
     "iopub.execute_input": "2024-06-12T16:34:57.536488Z",
     "iopub.status.busy": "2024-06-12T16:34:57.535998Z",
     "iopub.status.idle": "2024-06-12T16:34:57.555646Z",
     "shell.execute_reply": "2024-06-12T16:34:57.554369Z"
    },
    "papermill": {
     "duration": 0.042723,
     "end_time": "2024-06-12T16:34:57.558951",
     "exception": false,
     "start_time": "2024-06-12T16:34:57.516228",
     "status": "completed"
    },
    "tags": []
   },
   "outputs": [],
   "source": [
    "y_pred_test = best_rf.predict(X_test)"
   ]
  },
  {
   "cell_type": "code",
   "execution_count": 28,
   "id": "f34cca59",
   "metadata": {
    "execution": {
     "iopub.execute_input": "2024-06-12T16:34:57.597961Z",
     "iopub.status.busy": "2024-06-12T16:34:57.596982Z",
     "iopub.status.idle": "2024-06-12T16:34:57.607482Z",
     "shell.execute_reply": "2024-06-12T16:34:57.606275Z"
    },
    "papermill": {
     "duration": 0.032711,
     "end_time": "2024-06-12T16:34:57.610018",
     "exception": false,
     "start_time": "2024-06-12T16:34:57.577307",
     "status": "completed"
    },
    "tags": []
   },
   "outputs": [
    {
     "name": "stdout",
     "output_type": "stream",
     "text": [
      "Testing Data Evaluation with Best Hyperparameters:\n",
      "MAE: 678994.5520212768\n",
      "MSE: 3036358679924.6064\n",
      "RMSE: 1742515.0443897482\n",
      "R²: 0.9974468468818265\n"
     ]
    }
   ],
   "source": [
    "print(\"Testing Data Evaluation with Best Hyperparameters:\")\n",
    "print(\"MAE:\", mean_absolute_error(y_test, y_pred_test))\n",
    "print(\"MSE:\", mean_squared_error(y_test, y_pred_test))\n",
    "print(\"RMSE:\", np.sqrt(mean_squared_error(y_test, y_pred_test)))\n",
    "print(\"R²:\", r2_score(y_test, y_pred_test))"
   ]
  }
 ],
 "metadata": {
  "kaggle": {
   "accelerator": "none",
   "dataSources": [
    {
     "datasetId": 5157116,
     "sourceId": 8616321,
     "sourceType": "datasetVersion"
    }
   ],
   "dockerImageVersionId": 30732,
   "isGpuEnabled": false,
   "isInternetEnabled": true,
   "language": "python",
   "sourceType": "notebook"
  },
  "kernelspec": {
   "display_name": "Python 3",
   "language": "python",
   "name": "python3"
  },
  "language_info": {
   "codemirror_mode": {
    "name": "ipython",
    "version": 3
   },
   "file_extension": ".py",
   "mimetype": "text/x-python",
   "name": "python",
   "nbconvert_exporter": "python",
   "pygments_lexer": "ipython3",
   "version": "3.10.13"
  },
  "papermill": {
   "default_parameters": {},
   "duration": 47.131648,
   "end_time": "2024-06-12T16:35:00.251019",
   "environment_variables": {},
   "exception": null,
   "input_path": "__notebook__.ipynb",
   "output_path": "__notebook__.ipynb",
   "parameters": {},
   "start_time": "2024-06-12T16:34:13.119371",
   "version": "2.5.0"
  }
 },
 "nbformat": 4,
 "nbformat_minor": 5
}
