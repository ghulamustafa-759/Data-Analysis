import pandas as pd

import numpy as np

import matplotlib.pyplot as plt

import seaborn as sns
#To give the graph some dark color.
sns.set_style('darkgrid')

df = pd.read_excel('/kaggle/input/national-assembly-of-pakistan/NA_list.xlsx')
df.head()

df.shape

df.info()

df.isnull().sum()

df=df.drop('Contact',axis=1)

sns.histplot(df['Party'])
plt.ylabel('Number of candidates');

candidates_per_party=df.groupby(['Party'])['Party'].count().sort_values(ascending=False)
candidates_per_party

plt.figure(figsize=(15, 9))
sns.barplot(y=candidates_per_party.index,x=candidates_per_party)
plt.xlabel('Candidates in the National Assembly of Pak')
;

education = df.groupby('Profession/Education')['Party'].count().sort_values(ascending=False)
education

plt.figure(figsize=(15, 9))
sns.barplot(y=education.index[:10],x=education[:10])
plt.xlabel('Candidates in the National Assembly of Pak')
;

Education_party=df.groupby(['Party','Profession/Education'])['Party'].count().sort_values(ascending=False).unstack(level=1).fillna(0)
Education_party

